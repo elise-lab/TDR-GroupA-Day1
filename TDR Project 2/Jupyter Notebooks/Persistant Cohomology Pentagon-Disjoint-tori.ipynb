{
 "cells": [
  {
   "cell_type": "code",
   "execution_count": null,
   "id": "207325be",
   "metadata": {},
   "outputs": [],
   "source": [
    "import time\n",
    "import numpy as np\n",
    "from scipy.spatial import distance\n",
    "\n",
    "#topological data analysis\n",
    "from ripser import ripser\n",
    "from persim import plot_diagrams\n",
    "\n",
    "#plotting and visualization\n",
    "import plotly.graph_objects as go\n",
    "from plotly.subplots import make_subplots\n",
    "from matplotlib.patches import Circle\n",
    "\n",
    "import matplotlib.pyplot as plt\n",
    "%matplotlib inline\n",
    "\n",
    "import math\n",
    "import cmath\n",
    "from definitions import pentagon\n",
    "\n",
    "import random\n",
    "# import numpy as np\n",
    "\n",
    "#manifold learning and dim red\n",
    "from sklearn.manifold import Isomap\n",
    "from sklearn.decomposition import PCA\n",
    "from sklearn.manifold import LocallyLinearEmbedding as LLE\n",
    "\n",
    "#topological data analysis\n",
    "from dreimac import CircularCoords, ToroidalCoords, GeometryExamples, PlotUtils, CircleMapUtils, ComplexProjectiveCoords, ProjectiveMapUtils, GeometryUtils\n",
    "\n",
    "\n",
    "#plotting and visualization\n",
    "from jupyter_dash import JupyterDash\n",
    "from dash import Dash, dcc, html, Input, Output, no_update\n",
    "import plotly.graph_objects as go\n",
    "import pandas as pd\n",
    "import base64\n",
    "\n",
    "from matplotlib import cm\n",
    "# import matplotlib.pyplot as plt\n",
    "# %matplotlib inline"
   ]
  },
  {
   "cell_type": "code",
   "execution_count": null,
   "id": "625e2208",
   "metadata": {},
   "outputs": [],
   "source": [
    "# upload the excel files using pandas\n",
    "\n",
    "penta2 = np.loadtxt('data/genus_3_clean.txt', delimiter=',')\n",
    "\n",
    "print(penta2.shape)\n",
    "\n",
    "# print(2%%2)"
   ]
  }
 ],
 "metadata": {
  "kernelspec": {
   "display_name": "Python 3 (ipykernel)",
   "language": "python",
   "name": "python3"
  },
  "language_info": {
   "codemirror_mode": {
    "name": "ipython",
    "version": 3
   },
   "file_extension": ".py",
   "mimetype": "text/x-python",
   "name": "python",
   "nbconvert_exporter": "python",
   "pygments_lexer": "ipython3",
   "version": "3.10.9"
  }
 },
 "nbformat": 4,
 "nbformat_minor": 5
}
