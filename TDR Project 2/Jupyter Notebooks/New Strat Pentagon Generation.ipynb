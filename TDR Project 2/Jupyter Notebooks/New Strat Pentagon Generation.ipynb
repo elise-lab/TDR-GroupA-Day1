{
 "cells": [
  {
   "cell_type": "code",
   "execution_count": 12,
   "id": "31fec95a",
   "metadata": {},
   "outputs": [],
   "source": [
    "import numpy as np\n",
    "import math\n",
    "from xlwt import Workbook\n",
    "import xlrd\n",
    "\n",
    "def get_intersections(x0, y0, r0, x1, y1, r1, n=10):#find intersection points of two circles\n",
    "    # circle 1: (x0, y0), radius r0\n",
    "    # circle 2: (x1, y1), radius r1\n",
    "\n",
    "    d=math.sqrt((x1-x0)**2 + (y1-y0)**2)\n",
    "    \n",
    "    #change the following nones to be more descriptive\n",
    "    \n",
    "    # non intersecting\n",
    "    if d > r0 + r1 :\n",
    "        print('non intersecting')\n",
    "        return 'non intersecting'\n",
    "    # One circle within other\n",
    "    if d < abs(r0-r1):\n",
    "        print('inscribed')\n",
    "        return 'inscribed'\n",
    "    # coincident circles\n",
    "    if d == 0 and r0 == r1:\n",
    "        points=[]\n",
    "        for i in range(math.ceil(n*0.01)):\n",
    "            points.append(x0+r0*np.cos(i*2*math.pi*(1/math.ceil(n*0.01))),y0+r0*np.sin(i*2*math.pi*(1/math.ceil(n*0.01))))\n",
    "        return points\n",
    "    else:\n",
    "        a=(r0**2-r1**2+d**2)/(2*d)\n",
    "        h=math.sqrt(r0**2-a**2)\n",
    "        x2=x0+a*(x1-x0)/d   \n",
    "        y2=y0+a*(y1-y0)/d   \n",
    "        x3=x2+h*(y1-y0)/d     \n",
    "        y3=y2-h*(x1-x0)/d \n",
    "\n",
    "        x4=x2-h*(y1-y0)/d\n",
    "        y4=y2+h*(x1-x0)/d\n",
    "        \n",
    "        return [[x3, y3], [x4, y4]]\n",
    "    \n",
    "def pentagon(z3, dist): #z3 in numpy array form\n",
    "    if np.linalg.norm(z3-np.array([1,0]))>dist[0]+dist[1] or np.linalg.norm(z3)>dist[2]+dist[3]:\n",
    "        print(z3)\n",
    "        raise Exception('z3 out of range')\n",
    "    \n",
    "    z2s=get_intersections(z3[0], z3[1], dist[1], 1, 0, dist[0])\n",
    "    z4s=get_intersections(z3[0], z3[1], dist[2], 0, 0, dist[3])\n",
    "    \n",
    "    output=[]\n",
    "    for i in z2s:\n",
    "        for j in z4s:\n",
    "            if type(j)==str or type(i)==str:\n",
    "                continue\n",
    "            output.append([[1,0],i,z3,j,[0,0]])\n",
    "            output.append([[1,0],[i[0],-1*i[1]],[z3[0],-1*z3[1]],[j[0],-1*j[1]],[0,0]])\n",
    "    return np.asarray(output,dtype=object)\n",
    "    \n",
    "    \n",
    "def moduli_space_sample(n, dist):\n",
    "    if dist[2]+dist[3]>=(1+dist[0]+dist[1]):\n",
    "        x_vals=np.linspace(1-(dist[0]+dist[1]),1+dist[0]+dist[1],math.ceil(math.sqrt(n//2)))\n",
    "        y_vals=np.linspace(-(dist[0]+dist[1]),dist[0]+dist[1],math.ceil(math.sqrt(n//2)))\n",
    "    elif -(dist[2]+dist[3])>=1-(dist[0]+dist[1]):\n",
    "        x_vals=np.linspace(-(dist[2]+dist[3]),dist[2]+dist[3],math.ceil(math.sqrt(n//2)))\n",
    "        y_vals=np.linspace(-(dist[2]+dist[3]),dist[2]+dist[3],math.ceil(math.sqrt(n//2)))\n",
    "    elif dist[2]+dist[3]<(1+dist[0]+dist[1]) or -(dist[2]+dist[3])<1-(dist[0]+dist[1]):\n",
    "        x_vals=np.linspace(1-(dist[0]+dist[1]),dist[2]+dist[3],math.ceil(math.sqrt(n//2)))\n",
    "        intersections=get_intersections(0,0,dist[2]+dist[3],1,0,dist[0]+dist[1])\n",
    "        if 0<intersections[0][0]<1:\n",
    "            ymax, ymin = max(intersections[0][1],intersections[1][1]), min(intersections[0][1],intersections[1][1])\n",
    "        elif intersections[0][0]<=0:\n",
    "            ymax, ymin = dist[2]+dist[3], -(dist[2]+dist[3])\n",
    "        elif intersections[0][0]>=1:\n",
    "            ymax, ymin = dist[0]+dist[1], -(dist[0]+dist[1])\n",
    "        y_vals=np.linspace(ymin,ymax,math.ceil(math.sqrt(n//2)))\n",
    "        \n",
    "    coords=[np.array([x,y]) for x in x_vals for y in y_vals]\n",
    "    \n",
    "    output=[]\n",
    "    for i in coords:\n",
    "        if np.linalg.norm(i-np.array([1,0]))<=dist[0]+dist[1] and np.linalg.norm(i)<=dist[2]+dist[3]:\n",
    "            for pent in pentagon(i,dist):\n",
    "                output.append(pent)\n",
    "    \n",
    "    return np.asarray(output,dtype=object)\n",
    "    \n",
    "    "
   ]
  },
  {
   "cell_type": "code",
   "execution_count": 2,
   "id": "a4f5d2b0",
   "metadata": {},
   "outputs": [
    {
     "data": {
      "text/plain": [
       "array([[1, 0],\n",
       "       [0.1339745962155614, 0.5],\n",
       "       [1, 1],\n",
       "       [5.551115123125783e-17, 0.9999999999999998],\n",
       "       [0, 0]], dtype=object)"
      ]
     },
     "execution_count": 2,
     "metadata": {},
     "output_type": "execute_result"
    }
   ],
   "source": [
    "p=pentagon(np.array([1,1]),[1,1,1,1])\n",
    "p[0]"
   ]
  },
  {
   "cell_type": "code",
   "execution_count": 10,
   "id": "d43b38a0",
   "metadata": {},
   "outputs": [],
   "source": [
    "def xls_to_txt(xlsfile, name):\n",
    "    workbook = xlrd.open_workbook(r'{}.xls'.format(xlsfile))\n",
    "    worksheet = workbook.sheet_by_name('Sheet 1')\n",
    "\n",
    "    with open('data/{}.txt'.format(name), 'w+') as f:\n",
    "        for i in range(worksheet.nrows-1):\n",
    "            for j in range(4):\n",
    "                f.write(worksheet.cell(i, j).value)\n",
    "                f.write(', ')\n",
    "            f.write(worksheet.cell(i, 4).value)\n",
    "            f.write('\\n')\n"
   ]
  },
  {
   "cell_type": "code",
   "execution_count": 14,
   "id": "7776e2e2",
   "metadata": {},
   "outputs": [
    {
     "data": {
      "text/plain": [
       "43104"
      ]
     },
     "execution_count": 14,
     "metadata": {},
     "output_type": "execute_result"
    }
   ],
   "source": [
    "a=moduli_space_sample(14000, [0.1,0.1,1,1])#[0.6,0.6,0.6,1] [0.4,0.4,0.4,0.4] [1,1,1,1]\n",
    "len(a)"
   ]
  },
  {
   "cell_type": "code",
   "execution_count": 15,
   "id": "2c7c294f",
   "metadata": {},
   "outputs": [],
   "source": [
    "from xlwt import Workbook\n",
    "wb0 = Workbook()\n",
    "sheet2 = wb0.add_sheet('Sheet 1')\n",
    "\n",
    "def clean(i):\n",
    "    return (str(np.array(i[0]).tolist())+', '+str(np.array(i[1]).tolist())).replace('[','').replace(']','')\n",
    "\n",
    "for count1, pent in enumerate(a):\n",
    "    for count2, i in enumerate(pent):\n",
    "        sheet2.write(count1, count2, clean(i))\n",
    "\n",
    "wb0.save('disjoint_tori.xls')"
   ]
  },
  {
   "cell_type": "code",
   "execution_count": 16,
   "id": "581bdb8a",
   "metadata": {},
   "outputs": [],
   "source": [
    "xls_to_txt('disjoint_tori', 'disjoint_tori_clean')"
   ]
  },
  {
   "cell_type": "code",
   "execution_count": 25,
   "id": "c57105af",
   "metadata": {},
   "outputs": [],
   "source": []
  },
  {
   "cell_type": "code",
   "execution_count": null,
   "id": "3420ffaf",
   "metadata": {},
   "outputs": [],
   "source": []
  }
 ],
 "metadata": {
  "kernelspec": {
   "display_name": "Python 3 (ipykernel)",
   "language": "python",
   "name": "python3"
  },
  "language_info": {
   "codemirror_mode": {
    "name": "ipython",
    "version": 3
   },
   "file_extension": ".py",
   "mimetype": "text/x-python",
   "name": "python",
   "nbconvert_exporter": "python",
   "pygments_lexer": "ipython3",
   "version": "3.10.9"
  }
 },
 "nbformat": 4,
 "nbformat_minor": 5
}
