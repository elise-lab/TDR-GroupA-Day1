{
 "cells": [
  {
   "cell_type": "code",
   "execution_count": 56,
   "id": "4e23cf13",
   "metadata": {},
   "outputs": [],
   "source": [
    "import numpy as np\n",
    "import math\n",
    "\n",
    "def get_intersections(x0, y0, r0, x1, y1, r1, n=10):#find intersection points of two circles\n",
    "    # circle 1: (x0, y0), radius r0\n",
    "    # circle 2: (x1, y1), radius r1\n",
    "\n",
    "    d=math.sqrt((x1-x0)**2 + (y1-y0)**2)\n",
    "    \n",
    "    #change the following nones to be more descriptive\n",
    "    \n",
    "    # non intersecting\n",
    "    if d > r0 + r1 :\n",
    "        return 'non intersecting'\n",
    "    # One circle within other\n",
    "    if d < abs(r0-r1):\n",
    "        return 'inscribed'\n",
    "    # coincident circles\n",
    "    if d == 0 and r0 == r1:\n",
    "        points=[]\n",
    "        for i in range(math.ceil(n*0.01)):\n",
    "            points.append(x0+r0*np.cos(i*2*math.pi*(1/math.ceil(n*0.01))),y0+r0*np.sin(i*2*math.pi*(1/math.ceil(n*0.01))))\n",
    "        return points\n",
    "    else:\n",
    "        a=(r0**2-r1**2+d**2)/(2*d)\n",
    "        h=math.sqrt(r0**2-a**2)\n",
    "        x2=x0+a*(x1-x0)/d   \n",
    "        y2=y0+a*(y1-y0)/d   \n",
    "        x3=x2+h*(y1-y0)/d     \n",
    "        y3=y2-h*(x1-x0)/d \n",
    "\n",
    "        x4=x2-h*(y1-y0)/d\n",
    "        y4=y2+h*(x1-x0)/d\n",
    "        \n",
    "        return [[x3, y3], [x4, y4]]\n",
    "    \n",
    "def pentagon(z3, dist): #z3 in numpy array form\n",
    "    if np.linalg.norm(z3-np.array([1,0]))>dist[0]+dist[1] or np.linalg.norm(z3)>dist[2]+dist[3]:\n",
    "        print(z3)\n",
    "        raise Exception('z3 out of range')\n",
    "    \n",
    "    z2s=get_intersections(z3[0], z3[1], dist[1], 1, 0, dist[0])\n",
    "    z4s=get_intersections(z3[0], z3[1], dist[2], 0, 0, dist[3])\n",
    "    \n",
    "    output=[]\n",
    "    for i in z2s:\n",
    "        for j in z4s:\n",
    "            if type(j)==str or type(i)==str:\n",
    "                continue\n",
    "            output.append([[1,0],i,z3,j,[0,0]])\n",
    "            output.append([[1,0],[i[0],-1*i[1]],[z3[0],-1*z3[1]],[j[0],-1*j[1]],[1,0]])\n",
    "    return np.asarray(output,dtype=object)\n",
    "\n",
    "#def check_validity(pent, dist):\n",
    "    \n",
    "    \n",
    "def moduli_space_sample(n, dist):\n",
    "    x_vals=np.linspace(1-(dist[0]+dist[1]),dist[2]+dist[3],math.ceil(math.sqrt(n//2)))\n",
    "    ymax=max(get_intersections(0,0,dist[2]+dist[3],1,0,dist[0]+dist[1])[0][1],get_intersections(0,0,dist[2]+dist[3],1,0,dist[0]+dist[1])[1][1])\n",
    "    ymin=min(get_intersections(0,0,dist[2]+dist[3],1,0,dist[0]+dist[1])[0][1],get_intersections(0,0,dist[2]+dist[3],1,0,dist[0]+dist[1])[1][1])\n",
    "    y_vals=np.linspace(ymin,ymax,math.ceil(math.sqrt(n//2)))\n",
    "    coords=[np.array([x,y]) for x in x_vals for y in y_vals]\n",
    "    \n",
    "    output=[]\n",
    "    for i in coords:\n",
    "        if np.linalg.norm(i-np.array([1,0]))<=dist[0]+dist[1] and np.linalg.norm(i)<=dist[2]+dist[3]:\n",
    "            for pent in pentagon(i,dist):\n",
    "                output.append(pent)\n",
    "    return np.asarray(output,dtype=object)\n",
    "    \n",
    "    "
   ]
  },
  {
   "cell_type": "code",
   "execution_count": 19,
   "id": "f44ce723",
   "metadata": {},
   "outputs": [
    {
     "data": {
      "text/plain": [
       "array([[1, 0],\n",
       "       [0.1339745962155614, 0.5],\n",
       "       [1, 1],\n",
       "       [5.551115123125783e-17, 0.9999999999999998],\n",
       "       [0, 0]], dtype=object)"
      ]
     },
     "execution_count": 19,
     "metadata": {},
     "output_type": "execute_result"
    }
   ],
   "source": [
    "p=pentagon(np.array([1,1]),[1,1,1,1])\n",
    "p[0]"
   ]
  },
  {
   "cell_type": "code",
   "execution_count": 20,
   "id": "6bdfc431",
   "metadata": {},
   "outputs": [
    {
     "name": "stdout",
     "output_type": "stream",
     "text": [
      "[[1 0]\n",
      " [0.1339745962155614 0.5]\n",
      " [1 1]\n",
      " [5.551115123125783e-17 0.9999999999999998]\n",
      " [0 0]]\n"
     ]
    },
    {
     "data": {
      "image/png": "[encoded data removed]",
      "text/plain": [
       "<Figure size 640x480 with 1 Axes>"
      ]
     },
     "metadata": {},
     "output_type": "display_data"
    }
   ],
   "source": [
    "import matplotlib.pyplot as plt\n",
    "%matplotlib inline\n",
    "data=p[0]\n",
    "#plt.rcParams[\"figure.figsize\"] = [4.0, 3.50]\n",
    "plt.scatter(data[:,0],data[:,1])\n",
    "plt.plot(data[:,0],data[:,1])\n",
    "print(data)\n",
    "plt.show()"
   ]
  },
  {
   "cell_type": "code",
   "execution_count": 55,
   "id": "1f25fdf1",
   "metadata": {},
   "outputs": [
    {
     "data": {
      "text/plain": [
       "55776"
      ]
     },
     "execution_count": 55,
     "metadata": {},
     "output_type": "execute_result"
    }
   ],
   "source": [
    "a=moduli_space_sample(14000, [0.05,0.05,0.1,1])#[0.6,0.6,0.6,1]\n",
    "len(a)"
   ]
  },
  {
   "cell_type": "code",
   "execution_count": 51,
   "id": "fda5939c",
   "metadata": {},
   "outputs": [],
   "source": [
    "from xlwt import Workbook\n",
    "wb0 = Workbook()\n",
    "sheet2 = wb0.add_sheet('Sheet 1')\n",
    "\n",
    "def clean(i):\n",
    "    return (str(np.array(i[0]).tolist())+', '+str(np.array(i[1]).tolist())).replace('[','').replace(']','')\n",
    "\n",
    "for count1, pent in enumerate(a):\n",
    "    for count2, i in enumerate(pent):\n",
    "        sheet2.write(count1, count2, clean(i))\n",
    "\n",
    "wb0.save('spinning top.xls')"
   ]
  },
  {
   "cell_type": "code",
   "execution_count": null,
   "id": "3582fa86",
   "metadata": {},
   "outputs": [],
   "source": []
  }
 ],
 "metadata": {
  "kernelspec": {
   "display_name": "Python 3 (ipykernel)",
   "language": "python",
   "name": "python3"
  },
  "language_info": {
   "codemirror_mode": {
    "name": "ipython",
    "version": 3
   },
   "file_extension": ".py",
   "mimetype": "text/x-python",
   "name": "python",
   "nbconvert_exporter": "python",
   "pygments_lexer": "ipython3",
   "version": "3.11.3"
  }
 },
 "nbformat": 4,
 "nbformat_minor": 5
}
