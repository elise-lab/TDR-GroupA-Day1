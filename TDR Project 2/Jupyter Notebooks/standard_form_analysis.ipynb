{
 "cells": [
  {
   "cell_type": "markdown",
   "id": "df18868b",
   "metadata": {},
   "source": [
    "This file will upload the functions of Pentagon Generation and I will create and test a function that will determine the number of equivalence classes in our data of $M_5(d_1, d_2, d_, d_4, d_5)$"
   ]
  },
  {
   "cell_type": "code",
   "execution_count": 7,
   "id": "ff10a0f4",
   "metadata": {},
   "outputs": [],
   "source": [
    "# Here we will load the former functions of the Pentagon Generation file\n",
    "import numpy as np\n",
    "import math\n",
    "from definitions import pentagon"
   ]
  },
  {
   "cell_type": "code",
   "execution_count": 8,
   "id": "bad1e481",
   "metadata": {},
   "outputs": [],
   "source": [
    "# load pentagon data from excel spreadsheet\n",
    "# penta = [np.array([])]\n",
    "\n",
    "# penta = [ np.array([[0, 0],\n",
    "#         [1, 0],\n",
    "#         [np.array([0.07634892]), np.array([0.38323451])],\n",
    "#         [np.array([-0.92265777]), np.array([0.42779493])],\n",
    "#         [np.array([-0.82352545]), np.array([-0.56727933])]], dtype=object)\n",
    "#  np.array([[0, 0],\n",
    "#         [1, 0],\n",
    "#         [np.array([0.07634892]), np.array([0.38323451])],\n",
    "#         [np.array([0.17548125]), np.array([-0.61183975])],\n",
    "#         [np.array([-0.82352545]), np.array([-0.56727933])]], dtype=object),\n",
    "#  np.array([[0, 0],\n",
    "#         [1, 0],\n",
    "#         [np.array([0.07634892]), np.array([-0.38323451])],\n",
    "#         [np.array([-0.92265777]), np.array([-0.42779493])],\n",
    "#         [np.array([-0.82352545]), np.array([0.56727933])]], dtype=object),\n",
    "#  np.array([[0, 0],\n",
    "#         [1, 0],\n",
    "#         [np.array([0.07634892]), np.array([-0.38323451])],\n",
    "#         [np.array([0.17548125]), np.array([0.61183975])],\n",
    "#         [np.array([-0.82352545]), np.array([0.56727933])]], dtype=object),\n",
    "#  np.array([[0, 0],\n",
    "#         [1, 0],\n",
    "#         [np.array([0.34869809]), np.array([0.7588187])],\n",
    "#         [np.array([-0.34082152]), np.array([0.03455168])],\n",
    "#         [np.array([-0.26978088]), np.array([-0.96292174])]], dtype=object),\n",
    "#  np.array([[0, 0],\n",
    "#         [1, 0],\n",
    "#         [np.array([0.34869809]), np.array([0.7588187])],\n",
    "#         [np.array([0.41973872]), np.array([-0.23865472])],\n",
    "#         [np.array([-0.26978088]), np.array([-0.96292174])]], dtype=object),\n",
    "#  np.array([[0, 0],\n",
    "#         [1, 0],\n",
    "#         [np.array([0.34869809]), np.array([-0.7588187])],\n",
    "#         [np.array([-0.34082152]), np.array([-0.03455168])],\n",
    "#         [np.array([-0.26978088]), np.array([0.96292174])]], dtype=object),\n",
    "#  np.array([[0, 0],\n",
    "#         [1, 0],\n",
    "#         [np.array([0.34869809]), np.array([-0.7588187])],\n",
    "#         [np.array([0.41973872]), np.array([0.23865472])],\n",
    "#         [np.array([-0.26978088]), np.array([0.96292174])]], dtype=object)]\n",
    "\n",
    "penta = [np.array([[0, 0],[1, 0],[np.array([0.07634892]), np.array([0.38323451])],[np.array([-0.92265777]), np.array([0.42779493])],[np.array([-0.82352545]), np.array([-0.56727933])]], dtype=object)]\n",
    "\n",
    "# pentagon((math.pi)/3, (math.pi)/3, [1,1,1,1])"
   ]
  },
  {
   "cell_type": "markdown",
   "id": "6ba26ad3",
   "metadata": {},
   "source": [
    "NOTE : Because we changing the returned output of the pentagon function, the indexing in the following functions may need to be tweaked"
   ]
  },
  {
   "cell_type": "code",
   "execution_count": 34,
   "id": "3a9d5635",
   "metadata": {},
   "outputs": [],
   "source": [
    "def standard_form_analysis(penta):\n",
    "    #penta should be list of pentagons, so there is nested list notation\n",
    "    equiv_class = {}\n",
    "    size = len(penta)\n",
    "    for i in range(size):\n",
    "        c = penta[i][0][0] - penta[i][4][0]\n",
    "        d = penta[i][0][1] - penta[i][4][1]\n",
    "        #call a pentagon, its vertices specifically\n",
    "        # apply the formula and create the standard form\n",
    "        w1 = (((c*(penta[i][1][0] - penta[i][4][0])) + d*(penta[i][1][1] - penta[i][4][1]))/(c**2 + d**2), \n",
    "((-d*(penta[i][1][0] - penta[i][4][0])) + c*(penta[i][1][1] - penta[i][4][1]))/(c**2 + d**2))\n",
    "        w2 = (((c*(penta[i][2][0] - penta[i][4][0])) + d*(penta[i][2][1] - penta[i][4][1]))/(c**2 + d**2), \n",
    "        ((-d*(penta[i][2][0] - penta[i][4][0])) + c*(penta[i][2][1] - penta[i][4][1]))/(c**2 + d**2))\n",
    "        w3 = (((c*(penta[i][3][0] - penta[i][4][0])) + d*(penta[i][3][1] - penta[i][4][1]))/(c**2 + d**2), \n",
    "        ((-d*(penta[i][3][0] - penta[i][4][0])) + c*(penta[i][3][1] - penta[i][4][1]))/(c**2 + d**2))\n",
    "        stand_frm = (1, w1, w2, w3, 0)\n",
    "        #search for the key in dictionary: if it lives there, then add a one to the data\n",
    "        #if a key cannot be found then create a key, add it to an empty dictionary and add 1\n",
    "#         if stand_frm in equiv_class:\n",
    "#             equiv_class[stand_frm] += 1\n",
    "#         else:\n",
    "#             equiv_class[stand_frm] = 1\n",
    "    return stand_frm"
   ]
  },
  {
   "cell_type": "code",
   "execution_count": 40,
   "id": "350c4789",
   "metadata": {},
   "outputs": [
    {
     "name": "stdout",
     "output_type": "stream",
     "text": [
      "1.8235254458470012\n",
      "1.2802762933522724\n",
      "0.4828470686405274\n"
     ]
    }
   ],
   "source": [
    "pentagon = standard_form_analysis(penta)\n",
    "\n",
    "for i in range(3):\n",
    "#     print(pentagon[i+1])\n",
    "    print(float(pentagon[i+1][0]))"
   ]
  },
  {
   "cell_type": "code",
   "execution_count": 32,
   "id": "47b8d555",
   "metadata": {},
   "outputs": [
    {
     "name": "stdout",
     "output_type": "stream",
     "text": [
      "hello\n"
     ]
    }
   ],
   "source": [
    "dict = {(1,2): 3}\n",
    "if (1,2) in dict:\n",
    "    print(\"hello\")"
   ]
  },
  {
   "cell_type": "code",
   "execution_count": null,
   "id": "3291845a",
   "metadata": {},
   "outputs": [],
   "source": [
    "def standard_form_analysis(penta):\n",
    "    #penta should be list of pentagons, so there is nested list notation\n",
    "    list_stand_frm = []\n",
    "    size = len(penta)\n",
    "    for i in range(size):\n",
    "        c = penta[i][0][0] - penta[i][4][0]\n",
    "        d = penta[i][0][1] - penta[i][4][1]\n",
    "        #call a pentagon, its vertices specifically\n",
    "        # apply the formula and create the standard form\n",
    "        w1 = (((c*(penta[i][1][0] - penta[i][4][0])) + d*(penta[i][1][1] - penta[i][4][1]))/(c**2 + d**2), \n",
    "((-d*(penta[i][1][0] - penta[i][4][0])) + c*(penta[i][1][1] - penta[i][4][1]))/(c**2 + d**2))\n",
    "        w2 = (((c*(penta[i][2][0] - penta[i][4][0])) + d*(penta[i][2][1] - penta[i][4][1]))/(c**2 + d**2), \n",
    "        ((-d*(penta[i][2][0] - penta[i][4][0])) + c*(penta[i][2][1] - penta[i][4][1]))/(c**2 + d**2))\n",
    "        w3 = (((c*(penta[i][3][0] - penta[i][4][0])) + d*(penta[i][3][1] - penta[i][4][1]))/(c**2 + d**2), \n",
    "        ((-d*(penta[i][3][0] - penta[i][4][0])) + c*(penta[i][3][1] - penta[i][4][1]))/(c**2 + d**2))\n",
    "        list_stand_frm.append([1, w1, w2, w3, 0])\n",
    "        \n",
    "    return list_stand_frm"
   ]
  }
 ],
 "metadata": {
  "kernelspec": {
   "display_name": "Python 3 (ipykernel)",
   "language": "python",
   "name": "python3"
  },
  "language_info": {
   "codemirror_mode": {
    "name": "ipython",
    "version": 3
   },
   "file_extension": ".py",
   "mimetype": "text/x-python",
   "name": "python",
   "nbconvert_exporter": "python",
   "pygments_lexer": "ipython3",
   "version": "3.10.9"
  }
 },
 "nbformat": 4,
 "nbformat_minor": 5
}
