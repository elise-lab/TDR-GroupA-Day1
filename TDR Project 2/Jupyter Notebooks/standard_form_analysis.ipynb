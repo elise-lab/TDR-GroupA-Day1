{
 "cells": [
  {
   "cell_type": "markdown",
   "id": "df18868b",
   "metadata": {},
   "source": [
    "This file will upload the functions of Pentagon Generation and I will create and test a function that will determine the number of equivalence classes in our data of $M_5(d_1, d_2, d_, d_4, d_5)$"
   ]
  },
  {
   "cell_type": "code",
   "execution_count": 6,
   "id": "ff10a0f4",
   "metadata": {},
   "outputs": [],
   "source": [
    "# Here we will load the former functions of the Pentagon Generation file\n",
    "import numpy as np\n"
   ]
  },
  {
   "cell_type": "code",
   "execution_count": 10,
   "id": "a2ed74b5",
   "metadata": {},
   "outputs": [
    {
     "name": "stdout",
     "output_type": "stream",
     "text": [
      "1\n"
     ]
    }
   ],
   "source": [
    "# load pentagon data from excel spreadsheet\n",
    "# penta = [np.array([])]\n",
    "\n",
    "# penta = [ np.array([[0, 0],\n",
    "#         [1, 0],\n",
    "#         [np.array([0.07634892]), np.array([0.38323451])],\n",
    "#         [np.array([-0.92265777]), np.array([0.42779493])],\n",
    "#         [np.array([-0.82352545]), np.array([-0.56727933])]], dtype=object)\n",
    "#  np.array([[0, 0],\n",
    "#         [1, 0],\n",
    "#         [np.array([0.07634892]), np.array([0.38323451])],\n",
    "#         [np.array([0.17548125]), np.array([-0.61183975])],\n",
    "#         [np.array([-0.82352545]), np.array([-0.56727933])]], dtype=object),\n",
    "#  np.array([[0, 0],\n",
    "#         [1, 0],\n",
    "#         [np.array([0.07634892]), np.array([-0.38323451])],\n",
    "#         [np.array([-0.92265777]), np.array([-0.42779493])],\n",
    "#         [np.array([-0.82352545]), np.array([0.56727933])]], dtype=object),\n",
    "#  np.array([[0, 0],\n",
    "#         [1, 0],\n",
    "#         [np.array([0.07634892]), np.array([-0.38323451])],\n",
    "#         [np.array([0.17548125]), np.array([0.61183975])],\n",
    "#         [np.array([-0.82352545]), np.array([0.56727933])]], dtype=object),\n",
    "#  np.array([[0, 0],\n",
    "#         [1, 0],\n",
    "#         [np.array([0.34869809]), np.array([0.7588187])],\n",
    "#         [np.array([-0.34082152]), np.array([0.03455168])],\n",
    "#         [np.array([-0.26978088]), np.array([-0.96292174])]], dtype=object),\n",
    "#  np.array([[0, 0],\n",
    "#         [1, 0],\n",
    "#         [np.array([0.34869809]), np.array([0.7588187])],\n",
    "#         [np.array([0.41973872]), np.array([-0.23865472])],\n",
    "#         [np.array([-0.26978088]), np.array([-0.96292174])]], dtype=object),\n",
    "#  np.array([[0, 0],\n",
    "#         [1, 0],\n",
    "#         [np.array([0.34869809]), np.array([-0.7588187])],\n",
    "#         [np.array([-0.34082152]), np.array([-0.03455168])],\n",
    "#         [np.array([-0.26978088]), np.array([0.96292174])]], dtype=object),\n",
    "#  np.array([[0, 0],\n",
    "#         [1, 0],\n",
    "#         [np.array([0.34869809]), np.array([-0.7588187])],\n",
    "#         [np.array([0.41973872]), np.array([0.23865472])],\n",
    "#         [np.array([-0.26978088]), np.array([0.96292174])]], dtype=object)]\n",
    "\n",
    "penta = [np.array([[0, 0],[1, 0],[np.array([0.07634892]), np.array([0.38323451])],[np.array([-0.92265777]), np.array([0.42779493])],[np.array([-0.82352545]), np.array([-0.56727933])]], dtype=object)]\n"
   ]
  },
  {
   "cell_type": "code",
   "execution_count": 28,
   "id": "3a9d5635",
   "metadata": {},
   "outputs": [],
   "source": [
    "def standard_form_analysis(penta):\n",
    "    #penta should be list of pentagons, so there is nested list notation\n",
    "    size = len(penta)\n",
    "    for i in range(size):\n",
    "        #call a pentagon, its vertices specifically\n",
    "        stand = (1, (penta[i][1] - penta[i][4])/(penta[i][0] - penta[i][4]), (penta[i][2] - penta[i][4])/(penta[i][0] - penta[i][4]), (penta[i][3] - penta[i][4])/(penta[i][0] - penta[i][4]), 0)\n",
    "        print(penta[i][1] - penta[i][4])\n",
    "        print(\"space\")\n",
    "        print(penta[i])\n",
    "        print(\"space\")\n",
    "#         print(stand)\n",
    "        # apply the formula and create the standard form\n",
    "        #search for the key in dictionary: if it lives there, then add a one to the data\n",
    "        #if a key cannot be found then create a key, add it to an empty dictionary and add 1"
   ]
  },
  {
   "cell_type": "code",
   "execution_count": 29,
   "id": "b7387566",
   "metadata": {},
   "outputs": [
    {
     "name": "stdout",
     "output_type": "stream",
     "text": [
      "[array([1.82352545]) array([0.56727933])]\n",
      "space\n",
      "[[0 0]\n",
      " [1 0]\n",
      " [array([0.07634892]) array([0.38323451])]\n",
      " [array([-0.92265777]) array([0.42779493])]\n",
      " [array([-0.82352545]) array([-0.56727933])]]\n",
      "space\n"
     ]
    }
   ],
   "source": [
    "standard_form_analysis(penta)"
   ]
  },
  {
   "cell_type": "code",
   "execution_count": null,
   "id": "d2638212",
   "metadata": {},
   "outputs": [],
   "source": []
  }
 ],
 "metadata": {
  "kernelspec": {
   "display_name": "Python 3 (ipykernel)",
   "language": "python",
   "name": "python3"
  },
  "language_info": {
   "codemirror_mode": {
    "name": "ipython",
    "version": 3
   },
   "file_extension": ".py",
   "mimetype": "text/x-python",
   "name": "python",
   "nbconvert_exporter": "python",
   "pygments_lexer": "ipython3",
   "version": "3.10.9"
  }
 },
 "nbformat": 4,
 "nbformat_minor": 5
}
