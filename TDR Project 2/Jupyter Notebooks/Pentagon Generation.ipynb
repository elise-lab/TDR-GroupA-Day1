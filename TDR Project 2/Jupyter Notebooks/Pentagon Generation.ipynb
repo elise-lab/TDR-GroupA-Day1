{
 "cells": [
  {
   "cell_type": "markdown",
   "id": "ebcfd72e",
   "metadata": {},
   "source": [
    "This code will be used to generate a sampling of n pentagons from the moduli space of pentagons with side lengths $0\\neq (d_1,d_2,d_3,d_4,d_5)\\in R^5$. Without loss of generality we can assume that $d_1=1$ because the moduli space for $(d_1,d_2,d_3,d_4,d_5)$ is the same as the moduli space for $(d_1/d_1=1,d_2/d_1,d_3/d_1,d_4/d_1,d_5/d_1)$. In essence, for any pentagon with no side lengths equal to 1, we can scale all of the side lengths so that one side length is equal to 1 and the pentagons are geometrically the same."
   ]
  },
  {
   "cell_type": "code",
   "execution_count": 12,
   "id": "fd37c8f7",
   "metadata": {},
   "outputs": [],
   "source": [
    "import numpy as np\n",
    "import math\n",
    "\n",
    "#first we define a function which takes theta1,theta2,(d_2,d_3,d_4,d_5) assuming d_1=1 and outputs a list [(a,b),...]\n",
    "#of length 5 with each entry a tuple with coordinates for a vertex of the pentagon\n",
    "\n",
    "\n",
    "def len_side(a, b, C):#law of cosines for sides a,b and angle C\n",
    "    C_rad = math.radians(C)\n",
    "    c_sq = a ** 2 + b ** 2 - 2 * a * b * math.cos(C_rad)\n",
    "    c = math.sqrt(c_sq)\n",
    "    return c\n",
    "\n",
    "def angle_from_side(a, b, c):#law of cosines for sides a,b,c returning angle C\n",
    "    cos_c = (a **2 + b ** 2 - c ** 2)/(2*a*b)\n",
    "    C = math.acos(cos_c)\n",
    "    return C\n",
    "\n",
    "def get_intersections(x0, y0, r0, x1, y1, r1):#find intersection points of two circles\n",
    "    # circle 1: (x0, y0), radius r0\n",
    "    # circle 2: (x1, y1), radius r1\n",
    "\n",
    "    d=math.sqrt((x1-x0)**2 + (y1-y0)**2)\n",
    "    \n",
    "    # non intersecting\n",
    "    if d > r0 + r1 :\n",
    "        return None\n",
    "    # One circle within other\n",
    "    if d < abs(r0-r1):\n",
    "        return None\n",
    "    # coincident circles\n",
    "    if d == 0 and r0 == r1:\n",
    "        return None\n",
    "    else:\n",
    "        a=(r0**2-r1**2+d**2)/(2*d)\n",
    "        h=math.sqrt(r0**2-a**2)\n",
    "        x2=x0+a*(x1-x0)/d   \n",
    "        y2=y0+a*(y1-y0)/d   \n",
    "        x3=x2+h*(y1-y0)/d     \n",
    "        y3=y2-h*(x1-x0)/d \n",
    "\n",
    "        x4=x2-h*(y1-y0)/d\n",
    "        y4=y2+h*(x1-x0)/d\n",
    "        \n",
    "        return [(x3, y3), (x4, y4)]\n",
    "\n",
    "def pentagon(theta1, theta2, distances):\n",
    "    if sum(distances)<1:\n",
    "        raise Exception('Distances too small to make a valid pentagon.')\n",
    "        \n",
    "    output=[]\n",
    "    w2=(1+distances[0]*np.cos(theta2),distances[0]*np.sin(theta2))\n",
    "    \n",
    "    b=len_side(distances[3],1,theta1)\n",
    "    thetapp=theta2-angle_from_side(b,1,distances[3])\n",
    "    c=len_side(b,distances[0],thetapp)#used law of cosines x3 to find c=distance between w2,w4\n",
    "    \n",
    "    if c>distances[1]+distances[2]:\n",
    "        raise Exception('Angles and distances cannot form a valid pentagon.')\n",
    "        \n",
    "    w4=(distances[3]*np.cos(theta1),distances[3]*np.sin(theta1))\n",
    "    w3s=get_intersections(w2[0],w2[1],distances[1],w4[0],w4[1],distances[2])\n",
    "    if w3s is None:\n",
    "        raise Exception('Could not calculate circle intersection')\n",
    "    if w3s[0]!=w3s[1]:#if w3s[0] does not equal w3s[1] then the circle has two intersection points and there are two valid pentagons\n",
    "        p1=[np.array((0,0)),np.array((1,0)),np.array(w2)]#append w0,w1,w2\n",
    "        p1.append(np.array(w3s[0]))#append w3\n",
    "        p1.append(np.array(w4))#append w4\n",
    "        output.append(np.array(p1))\n",
    "        p2=[np.array((0,0)),np.array((1,0)),np.array(w2)]#append w0,w1,w2\n",
    "        p2.append(np.array(w3s[1]))#append w3\n",
    "        p2.append(np.array(w4))#append w4\n",
    "        output.append(np.array(p2))\n",
    "    else:\n",
    "        p1=[np.array((0,0)),np.array((1,0)),np.array(w2)]#append w0,w1,w2\n",
    "        p1.append(np.array(w3s[0]))#append w3\n",
    "        p1.append(np.array(w4))#append w4\n",
    "        output.append(np.array(p1))\n",
    "    \n",
    "    return output\n",
    "\n",
    "p=pentagon(1/2,1/2,[1,1,1,1])"
   ]
  },
  {
   "cell_type": "code",
   "execution_count": 13,
   "id": "fca0e761",
   "metadata": {},
   "outputs": [
    {
     "data": {
      "text/plain": [
       "[array([[0.        , 0.        ],\n",
       "        [1.        , 0.        ],\n",
       "        [1.87758256, 0.47942554],\n",
       "        [1.37758256, 1.34545094],\n",
       "        [0.87758256, 0.47942554]]),\n",
       " array([[ 0.        ,  0.        ],\n",
       "        [ 1.        ,  0.        ],\n",
       "        [ 1.87758256,  0.47942554],\n",
       "        [ 1.37758256, -0.38659987],\n",
       "        [ 0.87758256,  0.47942554]])]"
      ]
     },
     "execution_count": 13,
     "metadata": {},
     "output_type": "execute_result"
    }
   ],
   "source": [
    "p"
   ]
  },
  {
   "cell_type": "code",
   "execution_count": 19,
   "id": "25c9f86a",
   "metadata": {},
   "outputs": [
    {
     "data": {
      "text/plain": [
       "0.9999999999999999"
      ]
     },
     "execution_count": 19,
     "metadata": {},
     "output_type": "execute_result"
    }
   ],
   "source": [
    "np.linalg.norm(p[1][2]-p[1][3])"
   ]
  },
  {
   "cell_type": "code",
   "execution_count": null,
   "id": "7ff9e555",
   "metadata": {},
   "outputs": [],
   "source": []
  }
 ],
 "metadata": {
  "kernelspec": {
   "display_name": "Python 3 (ipykernel)",
   "language": "python",
   "name": "python3"
  },
  "language_info": {
   "codemirror_mode": {
    "name": "ipython",
    "version": 3
   },
   "file_extension": ".py",
   "mimetype": "text/x-python",
   "name": "python",
   "nbconvert_exporter": "python",
   "pygments_lexer": "ipython3",
   "version": "3.10.9"
  }
 },
 "nbformat": 4,
 "nbformat_minor": 5
}
