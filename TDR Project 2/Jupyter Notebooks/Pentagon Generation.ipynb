{
 "cells": [
  {
   "cell_type": "markdown",
   "id": "51488c55",
   "metadata": {},
   "source": [
    "This code will be used to generate a sampling of n pentagons from the moduli space of pentagons with side lengths 0\\neq (d_1,d_2,d_3,d_4,d_5)\\in R^5. Without loss of generality we can assume that d_1=1 because the moduli space for (d_1,d_2,d_3,d_4,d_5) is the same as the moduli space for (d_1/d_1=1,d_2/d_1,d_3/d_1,d_4/d_1,d_5/d_1). In essence, for any pentagon with no side lengths equal to 1, we can scale all of the side lengths so that one side length is equal to 1 and the pentagons are geometrically the same."
   ]
  },
  {
   "cell_type": "code",
   "execution_count": 8,
   "id": "73116542",
   "metadata": {},
   "outputs": [],
   "source": [
    "import numpy as np\n",
    "import math\n",
    "\n",
    "class InternalException(Exception):\n",
    "    \"Internal Function Error\"\n",
    "\n",
    "def len_side(a, b, C):#law of cosines for sides a,b and angle C\n",
    "    c_sq = a ** 2 + b ** 2 - 2 * a * b * math.cos(C)\n",
    "    c = math.sqrt(c_sq)\n",
    "    return c\n",
    "\n",
    "def angle_from_side(a, b, c):#law of cosines for sides a,b,c returning angle C\n",
    "    \n",
    "    cos_c = (a **2 + b ** 2 - c ** 2)/(2*a*b)\n",
    "    C = math.acos(cos_c)\n",
    "    return C\n",
    "\n",
    "def get_intersections(x0, y0, r0, x1, y1, r1):#find intersection points of two circles\n",
    "    # circle 1: (x0, y0), radius r0\n",
    "    # circle 2: (x1, y1), radius r1\n",
    "\n",
    "    d=math.sqrt((x1-x0)**2 + (y1-y0)**2)\n",
    "    \n",
    "    #change the following nones to be more descriptive\n",
    "    \n",
    "    # non intersecting\n",
    "    if d > r0 + r1 :\n",
    "        return None\n",
    "    # One circle within other\n",
    "    if d < abs(r0-r1):\n",
    "        return None\n",
    "    # coincident circles\n",
    "    if d == 0 and r0 == r1:\n",
    "        return None\n",
    "    else:\n",
    "        a=(r0**2-r1**2+d**2)/(2*d)\n",
    "        h=math.sqrt(r0**2-a**2)\n",
    "        x2=x0+a*(x1-x0)/d   \n",
    "        y2=y0+a*(y1-y0)/d   \n",
    "        x3=x2+h*(y1-y0)/d     \n",
    "        y3=y2-h*(x1-x0)/d \n",
    "\n",
    "        x4=x2-h*(y1-y0)/d\n",
    "        y4=y2+h*(x1-x0)/d\n",
    "        \n",
    "        return [[x3, y3], [x4, y4]]\n",
    "    \n",
    "def max_sum_angle(dist, start_ang): #Take in the distances of our pentagon\n",
    "    if start_ang >= (math.pi)/2:\n",
    "        raise InternalException(\"Input new angle\")\n",
    "    else:\n",
    "        c = dist[1] + dist[2]\n",
    "        b = len_side(c, dist[0], start_ang)\n",
    "        beta = angle_from_side(b, dist[0], c)\n",
    "        alpha = angle_from_side(1, dist[3], b) #weirdness when we consider 1, 1, b?\n",
    "        gamma = angle_from_side(1, b, dist[3])\n",
    "        \n",
    "        return alpha + beta + gamma\n",
    "    \n",
    "\n",
    "    \n",
    "#first we define a function which takes theta1,theta2,(d_2,d_3,d_4,d_5) assuming d_1=1 and outputs a list [(a,b),...]\n",
    "#of length 5 with each entry a tuple with coordinates for a vertex of the pentagon\n",
    "    \n",
    "def pentagon(theta1, theta2, distances):\n",
    "    if sum(distances)<1:\n",
    "        raise InternalException('Distances too small to make a valid pentagon.')\n",
    "        \n",
    "    output=[]\n",
    "    w2=[1-distances[0]*np.cos(theta2),distances[0]*np.sin(theta2)]\n",
    "    \n",
    "    b=len_side(distances[3],1,theta1)\n",
    "    thetapp=theta2-angle_from_side(b,1,distances[3])\n",
    "    c=len_side(b,distances[0],thetapp)#used law of cosines x3 to find c=distance between w2,w4\n",
    "    \n",
    "    w4=[distances[3]*np.cos(theta1),distances[3]*np.sin(theta1)]\n",
    "    w3s=get_intersections(w2[0],w2[1],distances[1],w4[0],w4[1],distances[2])\n",
    "    \n",
    "    if c>distances[1]+distances[2]: #view dist[1] and dist[2] as the radii of circles centered at vertices\n",
    "        raise InternalException('Angles and distances cannot form a valid pentagon.')\n",
    "    \n",
    "    if w3s is None:\n",
    "        raise InternalException('Could not calculate circle intersection')\n",
    "    \n",
    "    \n",
    "    if w3s[0]!=w3s[1]:#if w3s[0] does not equal w3s[1] then the circle has two intersection points and there are two valid pentagons\n",
    "        p1=[[0,0],[1,0],w2]#append w0,w1,w2\n",
    "        p1.append(w3s[0])#append w3\n",
    "        p1.append(w4)#append w4\n",
    "        output.append(p1)\n",
    "        p2=[[0,0],[1,0],w2]#append w0,w1,w2\n",
    "        p2.append(w3s[1])#append w3\n",
    "        p2.append(w4)#append w4\n",
    "        output.append((p2))\n",
    "    else:\n",
    "        p1=[[0,0],[1,0],w2]#append w0,w1,w2\n",
    "        p1.append(w3s[0])#append w3\n",
    "        p1.append(w4)#append w4\n",
    "        output.append((p1))\n",
    "    \n",
    "    return np.array(output, dtype=object) #this returns a list 1-2 pentagons, each in numpy array form\n",
    "\n",
    "p=pentagon(6,1/4,[1,1,1,1])"
   ]
  },
  {
   "cell_type": "code",
   "execution_count": 3,
   "id": "d659e5ca",
   "metadata": {},
   "outputs": [
    {
     "data": {
      "text/plain": [
       "(2, 5, 2)"
      ]
     },
     "execution_count": 3,
     "metadata": {},
     "output_type": "execute_result"
    }
   ],
   "source": [
    "p.shape"
   ]
  },
  {
   "cell_type": "code",
   "execution_count": 4,
   "id": "028c89c4",
   "metadata": {},
   "outputs": [
    {
     "data": {
      "text/plain": [
       "array([[[ 0.        ,  0.        ],\n",
       "        [ 1.        ,  0.        ],\n",
       "        [ 0.03108758,  0.24740396],\n",
       "        [ 0.07859917, -0.75146673],\n",
       "        [ 0.96017029, -0.2794155 ]],\n",
       "\n",
       "       [[ 0.        ,  0.        ],\n",
       "        [ 1.        ,  0.        ],\n",
       "        [ 0.03108758,  0.24740396],\n",
       "        [ 0.9126587 ,  0.71945519],\n",
       "        [ 0.96017029, -0.2794155 ]]])"
      ]
     },
     "execution_count": 4,
     "metadata": {},
     "output_type": "execute_result"
    }
   ],
   "source": [
    "p"
   ]
  },
  {
   "cell_type": "code",
   "execution_count": null,
   "id": "1061c37f",
   "metadata": {},
   "outputs": [],
   "source": []
  },
  {
   "cell_type": "code",
   "execution_count": 38,
   "id": "45b5d70d",
   "metadata": {},
   "outputs": [
    {
     "data": {
      "text/plain": [
       "1.0"
      ]
     },
     "execution_count": 38,
     "metadata": {},
     "output_type": "execute_result"
    }
   ],
   "source": [
    "np.linalg.norm(p[1][4]-p[1][0])"
   ]
  },
  {
   "cell_type": "code",
   "execution_count": 81,
   "id": "8f1fd257",
   "metadata": {},
   "outputs": [
    {
     "name": "stdout",
     "output_type": "stream",
     "text": [
      "[[ 0.          0.        ]\n",
      " [ 1.          0.        ]\n",
      " [ 1.5         0.8660254 ]\n",
      " [ 0.5         0.86602542]\n",
      " [-0.5         0.8660254 ]]\n"
     ]
    },
    {
     "data": {
      "image/png": "[encoded data removed]",
      "text/plain": [
       "<Figure size 400x350 with 1 Axes>"
      ]
     },
     "metadata": {},
     "output_type": "display_data"
    }
   ],
   "source": [
    "import matplotlib.pyplot as plt\n",
    "%matplotlib inline\n",
    "data=p[0]\n",
    "#plt.rcParams[\"figure.figsize\"] = [4.0, 3.50]\n",
    "plt.scatter(data[:,0],data[:,1])\n",
    "plt.plot(data[:,0],data[:,1])\n",
    "print(data)\n",
    "plt.show()"
   ]
  },
  {
   "cell_type": "markdown",
   "id": "6cf9847c",
   "metadata": {},
   "source": [
    "This next function takes n,(d_2,d_3,d_4,d_5) as an argument and outputs a list of around 2n randomly generated pentagons with side lengths (d_2,d_3,d_4,d_5)."
   ]
  },
  {
   "cell_type": "code",
   "execution_count": 18,
   "id": "d24721dc",
   "metadata": {},
   "outputs": [
    {
     "data": {
      "text/plain": [
       "[array([[0, 0],\n",
       "        [1, 0],\n",
       "        [array([0.06223747]), array([0.34727718])],\n",
       "        [array([-0.93007764]), array([0.47101369])],\n",
       "        [array([-0.85059432]), array([-0.5258225])]], dtype=object),\n",
       " array([[0, 0],\n",
       "        [1, 0],\n",
       "        [array([0.06223747]), array([0.34727718])],\n",
       "        [array([0.14172079]), array([-0.64955901])],\n",
       "        [array([-0.85059432]), array([-0.5258225])]], dtype=object)]"
      ]
     },
     "execution_count": 18,
     "metadata": {},
     "output_type": "execute_result"
    }
   ],
   "source": [
    "\n",
    "\n",
    "def moduli_space_sample(n, distances, start_ang):\n",
    "    if sum(distances)<1:\n",
    "        raise Exception('Distances too small to make a valid pentagon.')\n",
    "    \n",
    "    sample=[]\n",
    "    for i in range(n):\n",
    "        while True:\n",
    "            theta1=np.random.uniform(0,max_sum_angle(distances, start_ang),1)\n",
    "            theta2=np.random.uniform(0,max_sum_angle(distances, start_ang)-theta1,1)\n",
    "            try:\n",
    "                p=pentagon(theta1,theta2,distances)\n",
    "                for j in p:\n",
    "                    sample.append(j)\n",
    "                break\n",
    "            except InternalException as e:\n",
    "                print(str(e))\n",
    "                continue\n",
    "    return sample\n",
    "\n",
    "r=moduli_space_sample(1,[1,1,1,1], (math.pi/3))\n",
    "len(r)\n",
    "r"
   ]
  },
  {
   "cell_type": "code",
   "execution_count": 21,
   "id": "d8ecd89b",
   "metadata": {},
   "outputs": [
    {
     "name": "stdout",
     "output_type": "stream",
     "text": [
      "Angles and distances cannot form a valid pentagon.\n",
      "Could not calculate circle intersection\n",
      "Could not calculate circle intersection\n",
      "Angles and distances cannot form a valid pentagon.\n",
      "Could not calculate circle intersection\n"
     ]
    },
    {
     "data": {
      "text/plain": [
       "[array([[0, 0],\n",
       "        [1, 0],\n",
       "        [array([1.43319778]), array([0.90129889])],\n",
       "        [array([1.21255893]), array([1.87665446])],\n",
       "        [array([0.21877697]), array([1.98799815])]], dtype=object),\n",
       " array([[0, 0],\n",
       "        [1, 0],\n",
       "        [array([1.43319778]), array([0.90129889])],\n",
       "        [array([0.43941582]), array([1.01264257])],\n",
       "        [array([0.21877697]), array([1.98799815])]], dtype=object),\n",
       " array([[0, 0],\n",
       "        [1, 0],\n",
       "        [array([1.66741581]), array([0.74468526])],\n",
       "        [array([2.29536124]), array([1.52294263])],\n",
       "        [array([1.29536163]), array([1.52382356])]], dtype=object),\n",
       " array([[0, 0],\n",
       "        [1, 0],\n",
       "        [array([1.66741581]), array([0.74468526])],\n",
       "        [array([0.66741619]), array([0.74556619])],\n",
       "        [array([1.29536163]), array([1.52382356])]], dtype=object),\n",
       " array([[0, 0],\n",
       "        [1, 0],\n",
       "        [array([1.76930525]), array([0.63888139])],\n",
       "        [array([2.56730445]), array([0.03622288])],\n",
       "        [array([1.85772531]), array([0.74084863])]], dtype=object),\n",
       " array([[0, 0],\n",
       "        [1, 0],\n",
       "        [array([1.76930525]), array([0.63888139])],\n",
       "        [array([1.05972611]), array([1.34350714])],\n",
       "        [array([1.85772531]), array([0.74084863])]], dtype=object)]"
      ]
     },
     "execution_count": 21,
     "metadata": {},
     "output_type": "execute_result"
    }
   ],
   "source": [
    "r=moduli_space_sample(3,[1,1,1,2], (math.pi/4))\n",
    "len(r)\n",
    "r"
   ]
  },
  {
   "cell_type": "code",
   "execution_count": 22,
   "id": "9fa7971b",
   "metadata": {},
   "outputs": [
    {
     "name": "stdout",
     "output_type": "stream",
     "text": [
      "Angles and distances cannot form a valid pentagon.\n",
      "Could not calculate circle intersection\n",
      "Angles and distances cannot form a valid pentagon.\n"
     ]
    },
    {
     "data": {
      "text/plain": [
       "[array([[0, 0],\n",
       "        [1, 0],\n",
       "        [array([0.3045439]), array([0.71856859])],\n",
       "        [array([-0.12904317]), array([1.61968026])],\n",
       "        [array([-1.12854706]), array([1.6511758])]], dtype=object),\n",
       " array([[0, 0],\n",
       "        [1, 0],\n",
       "        [array([0.3045439]), array([0.71856859])],\n",
       "        [array([-0.69495999]), array([0.75006413])],\n",
       "        [array([-1.12854706]), array([1.6511758])]], dtype=object),\n",
       " array([[0, 0],\n",
       "        [1, 0],\n",
       "        [array([0.10383405]), array([0.44371905])],\n",
       "        [array([-0.10665042]), array([1.42131625])],\n",
       "        [array([-1.06995307]), array([1.68973384])]], dtype=object),\n",
       " array([[0, 0],\n",
       "        [1, 0],\n",
       "        [array([0.10383405]), array([0.44371905])],\n",
       "        [array([-0.8594686]), array([0.71213663])],\n",
       "        [array([-1.06995307]), array([1.68973384])]], dtype=object),\n",
       " array([[0, 0],\n",
       "        [1, 0],\n",
       "        [array([0.23825095]), array([0.6478722])],\n",
       "        [array([-0.48434266]), array([1.33914528])],\n",
       "        [array([-1.48434185]), array([1.34042131])]], dtype=object),\n",
       " array([[0, 0],\n",
       "        [1, 0],\n",
       "        [array([0.23825095]), array([0.6478722])],\n",
       "        [array([-0.76174823]), array([0.64914823])],\n",
       "        [array([-1.48434185]), array([1.34042131])]], dtype=object)]"
      ]
     },
     "execution_count": 22,
     "metadata": {},
     "output_type": "execute_result"
    }
   ],
   "source": [
    "r=moduli_space_sample(3,[1,1,1,2], (math.pi/5))\n",
    "len(r)\n",
    "r"
   ]
  },
  {
   "cell_type": "code",
   "execution_count": null,
   "id": "a81d2a13",
   "metadata": {},
   "outputs": [],
   "source": []
  }
 ],
 "metadata": {
  "kernelspec": {
   "display_name": "Python 3 (ipykernel)",
   "language": "python",
   "name": "python3"
  },
  "language_info": {
   "codemirror_mode": {
    "name": "ipython",
    "version": 3
   },
   "file_extension": ".py",
   "mimetype": "text/x-python",
   "name": "python",
   "nbconvert_exporter": "python",
   "pygments_lexer": "ipython3",
   "version": "3.10.9"
  }
 },
 "nbformat": 4,
 "nbformat_minor": 5
}
