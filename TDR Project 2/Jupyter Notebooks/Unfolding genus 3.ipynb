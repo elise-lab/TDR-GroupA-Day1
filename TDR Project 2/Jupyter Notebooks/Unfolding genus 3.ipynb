{
 "cells": [
  {
   "cell_type": "code",
   "execution_count": 6,
   "id": "e9161d2b",
   "metadata": {},
   "outputs": [],
   "source": [
    "import numpy as np\n",
    "from sklearn import manifold\n",
    "from dreimac import GeometryUtils, CircleMapUtils, CircularCoords\n",
    "from ripser import ripser\n",
    "from persim import plot_diagrams\n",
    "import plotly.graph_objects as go\n",
    "import matplotlib.pyplot as plt\n",
    "%matplotlib inline\n",
    "\n"
   ]
  },
  {
   "cell_type": "code",
   "execution_count": 2,
   "id": "015b43a6",
   "metadata": {},
   "outputs": [
    {
     "name": "stdout",
     "output_type": "stream",
     "text": [
      "(37167, 10)\n"
     ]
    }
   ],
   "source": [
    "penta2 = np.loadtxt('data/genus_3_clean.txt', delimiter=',')\n",
    "\n",
    "print(penta2.shape)"
   ]
  },
  {
   "cell_type": "code",
   "execution_count": 3,
   "id": "b05cd957",
   "metadata": {},
   "outputs": [],
   "source": [
    "n_land = 900\n",
    "k_neigh = 20\n",
    "dist_mat, pointcloud_permutation = GeometryUtils.landmark_geodesic_distance(penta2, n_land, k_neigh)"
   ]
  },
  {
   "cell_type": "code",
   "execution_count": 8,
   "id": "cb955427",
   "metadata": {},
   "outputs": [],
   "source": [
    "angle_data = np.zeros((penta2.shape[0],5)) # internal angles\n",
    "\n",
    "for i in range(5):\n",
    "    ii = (2*i -2)%10\n",
    "    jj = (2*i - 1)%10\n",
    "    u = penta2[:, [ii, jj]]\n",
    "    \n",
    "    ii = (2*i)%10\n",
    "    jj = (2*i + 1)%10\n",
    "    v = penta2[:, [ii , jj]]\n",
    "    \n",
    "    ii = (2*i + 2)%10\n",
    "    jj = (2*i + 3)%10\n",
    "    w = penta2[:, [ii, jj]]\n",
    "    \n",
    "    z = np.sum((u - v)*(w-v), axis = 1)\n",
    "    \n",
    "    angle_data[:,i]  = np.arccos( np.minimum(z,1) )\n",
    "    \n",
    "energy = np.sum((angle_data - (3/5)*np.pi)**2 , axis = 1)"
   ]
  },
  {
   "cell_type": "code",
   "execution_count": null,
   "id": "52943973",
   "metadata": {},
   "outputs": [],
   "source": [
    "#implementing circular coords to find cuts found via persistent cohomology genus 3 jupyter notebook\n",
    "\n",
    "n_lands = 900\n",
    "\n",
    "cc = CircularCoords(dist_mat, n_landmarks= n_lands, distance_matrix = True)\n",
    "\n",
    "coho_classes = [0, 1, 2, 3, 4, 5]\n",
    "\n",
    "circular_coords = []\n",
    "\n",
    "for i in coho_classes:\n",
    "    circular_coords.append(cc.get_coordinates(perc = 0.6, cocycle_idx=i, standard_range= False))\n",
    "\n",
    "#Applying Circular coords and doing TDR\n",
    "\n",
    "thetas= CircleMapUtils.linear_combination(np.array(circular_coords), [[1,0,0,0,0,0], [0,1,0,0,0,0],[0,0,1,0,0,0], [0,0,0,1,0,0], [0,0,0,0,1,0],[0,0,0,0,0,1]])\n",
    "#Standard Basis, 1,2,6 little fold\n",
    "\n",
    "theta1 = CircleMapUtils.center(thetas[0])\n",
    "theta2 = CircleMapUtils.center(thetas[1])\n",
    "theta3 = CircleMapUtils.center(thetas[2])\n",
    "theta4 = CircleMapUtils.center(thetas[3])\n",
    "theta5 = CircleMapUtils.center(thetas[4])\n",
    "theta6 = CircleMapUtils.center(thetas[5])\n",
    "\n",
    "# fig = go.Figure(data=[go.Scatter3d(\n",
    "#     x=theta1, y=theta2, z=theta6, \n",
    "#     mode ='markers', \n",
    "#     marker=dict(size = 3, color =energy[pointcloud_permutation], colorscale='plasma')\n",
    "# )])\n",
    "\n",
    "# fig.update_layout(autosize=False, width=700, height=700)\n",
    "\n",
    "# fig.show()\n",
    "\n",
    "\n"
   ]
  },
  {
   "cell_type": "code",
   "execution_count": null,
   "id": "614ba4d2",
   "metadata": {},
   "outputs": [],
   "source": [
    "n_lands=1000\n",
    "\n",
    "coho_data = np.array([theta1, theta2, theta6])\n",
    "\n",
    "coho = CircularCoords(coho_data.T , n_landmarks= n_lands)\n",
    "\n",
    "coho_classes = [0, 1, 2, 3, 4, 5]\n",
    "\n",
    "circular_coords_coho = []\n",
    "\n",
    "for i in coho_classes:\n",
    "    circular_coords_coho.append(coho.get_coordinates(perc = 0.6, cocycle_idx=i, standard_range= False))\n",
    "    \n",
    "thetas_prime = CircleMapUtils.linear_combination(circular_coords_coho,[[1,0,0,0,0,0], [0,1,0,0,0,3],[1,0,1,0,0,0],[1,0,0,1,0,0],[0,0,0,0,2,1],[0,0,0,0,0,1]])\n",
    "\n",
    "fig = make_subplots(rows=1, cols=len(coho_classes), \n",
    "                    subplot_titles = tuple('Circ Coord '+str(i) for i in coho_classes),\n",
    "                    specs = [[{'type': 'scatter3d'} for i in coho_classes]])\n",
    "\n",
    "for i, coord in enumerate(circular_coords_coho):\n",
    "    fig.add_trace(\n",
    "        go.Scatter3d(x=theta1, y=theta2, z=theta6,   mode ='markers', \n",
    "        marker=dict(size = 2 , color = (thetas_prime[i]))),  \n",
    "        row=1, col=i+1)\n",
    "    fig.update_scenes(xaxis=dict( ticks='', showticklabels=False), \n",
    "                      yaxis=dict( ticks='', showticklabels=False), \n",
    "                      zaxis=dict( ticks='', showticklabels=False), \n",
    "                      aspectmode='data', row=1, col=i+1)\n",
    "\n",
    "fig.update_layout( showlegend=False )\n",
    "fig.show()"
   ]
  },
  {
   "cell_type": "code",
   "execution_count": null,
   "id": "e4b627f5",
   "metadata": {},
   "outputs": [],
   "source": [
    "mds= manifold.MDS(\n",
    "    n_components=2,\n",
    "    metric=True,\n",
    "    dissimilarity=\"precomputed\",\n",
    ")\n",
    "mds.fit(dist_mat)"
   ]
  }
 ],
 "metadata": {
  "kernelspec": {
   "display_name": "Python 3 (ipykernel)",
   "language": "python",
   "name": "python3"
  },
  "language_info": {
   "codemirror_mode": {
    "name": "ipython",
    "version": 3
   },
   "file_extension": ".py",
   "mimetype": "text/x-python",
   "name": "python",
   "nbconvert_exporter": "python",
   "pygments_lexer": "ipython3",
   "version": "3.11.3"
  }
 },
 "nbformat": 4,
 "nbformat_minor": 5
}
