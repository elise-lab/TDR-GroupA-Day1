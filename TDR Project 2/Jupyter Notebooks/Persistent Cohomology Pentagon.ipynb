{
 "cells": [
  {
   "cell_type": "code",
   "execution_count": 8,
   "id": "19b40b4d",
   "metadata": {},
   "outputs": [
    {
     "ename": "ImportError",
     "evalue": "cannot import name 'CircleMapUtils' from 'dreimac' (/Users/ealvarezsalazar/anaconda3/lib/python3.10/site-packages/dreimac/__init__.py)",
     "output_type": "error",
     "traceback": [
      "\u001b[0;31m---------------------------------------------------------------------------\u001b[0m",
      "\u001b[0;31mImportError\u001b[0m                               Traceback (most recent call last)",
      "Cell \u001b[0;32mIn[8], line 32\u001b[0m\n\u001b[1;32m     27\u001b[0m \u001b[38;5;28;01mfrom\u001b[39;00m \u001b[38;5;21;01msklearn\u001b[39;00m\u001b[38;5;21;01m.\u001b[39;00m\u001b[38;5;21;01mmanifold\u001b[39;00m \u001b[38;5;28;01mimport\u001b[39;00m LocallyLinearEmbedding \u001b[38;5;28;01mas\u001b[39;00m LLE\n\u001b[1;32m     29\u001b[0m \u001b[38;5;66;03m#topological data analysis\u001b[39;00m\n\u001b[1;32m     30\u001b[0m \u001b[38;5;66;03m# from ripser import ripser\u001b[39;00m\n\u001b[1;32m     31\u001b[0m \u001b[38;5;66;03m# from persim import plot_diagrams\u001b[39;00m\n\u001b[0;32m---> 32\u001b[0m \u001b[38;5;28;01mfrom\u001b[39;00m \u001b[38;5;21;01mdreimac\u001b[39;00m \u001b[38;5;28;01mimport\u001b[39;00m CircularCoords, CircleMapUtils\n\u001b[1;32m     34\u001b[0m \u001b[38;5;66;03m#plotting and visualization\u001b[39;00m\n\u001b[1;32m     35\u001b[0m \u001b[38;5;28;01mfrom\u001b[39;00m \u001b[38;5;21;01mjupyter_dash\u001b[39;00m \u001b[38;5;28;01mimport\u001b[39;00m JupyterDash\n",
      "\u001b[0;31mImportError\u001b[0m: cannot import name 'CircleMapUtils' from 'dreimac' (/Users/ealvarezsalazar/anaconda3/lib/python3.10/site-packages/dreimac/__init__.py)"
     ]
    }
   ],
   "source": [
    "import time\n",
    "import numpy as np\n",
    "from scipy.spatial import distance\n",
    "\n",
    "#topological data analysis\n",
    "from ripser import ripser\n",
    "from persim import plot_diagrams\n",
    "\n",
    "#plotting and visualization\n",
    "import plotly.graph_objects as go\n",
    "from plotly.subplots import make_subplots\n",
    "from matplotlib.patches import Circle\n",
    "\n",
    "import matplotlib.pyplot as plt\n",
    "%matplotlib inline\n",
    "\n",
    "import math\n",
    "import cmath\n",
    "from definitions import pentagon\n",
    "\n",
    "import random\n",
    "# import numpy as np\n",
    "\n",
    "#manifold learning and dim red\n",
    "from sklearn.manifold import Isomap\n",
    "from sklearn.decomposition import PCA\n",
    "from sklearn.manifold import LocallyLinearEmbedding as LLE\n",
    "\n",
    "#topological data analysis\n",
    "# from ripser import ripser\n",
    "# from persim import plot_diagrams\n",
    "from dreimac import CircularCoords, CircleMapUtils\n",
    "\n",
    "#plotting and visualization\n",
    "from jupyter_dash import JupyterDash\n",
    "from dash import Dash, dcc, html, Input, Output, no_update\n",
    "import plotly.graph_objects as go\n",
    "import pandas as pd\n",
    "import base64\n",
    "\n",
    "from matplotlib import cm\n",
    "# import matplotlib.pyplot as plt\n",
    "# %matplotlib inline\n",
    "\n",
    "\n",
    "def plot_barcodes(diagrams, alpha_max, width = 1.5):\n",
    "    max_dim = len(diagrams)\n",
    "    fig, axs = plt.subplots(max_dim)\n",
    "    fig.suptitle('Barcodes')\n",
    "    for dim in range(max_dim):\n",
    "        barcode = np.copy(diagrams[dim])\n",
    "        ind_inf = np.isinf(barcode.T[1])\n",
    "        barcode[ind_inf, 1] = alpha_max\n",
    "        h = 1\n",
    "        for i in range(len(barcode)):\n",
    "            x = barcode[i]\n",
    "            y = [h,h]\n",
    "            axs[dim].plot(x, y, linestyle= '-', c='#1f77b4', linewidth = width)\n",
    "            if ind_inf[i]:\n",
    "                axs[dim].scatter([alpha_max],[h],  s=10, marker='>', c='#1f77b4')\n",
    "            h += 1\n",
    "        axs[dim].set_xlim(0, 1.05*alpha_max)\n",
    "        axs[dim].set_ylim(0,h)\n",
    "        axs[dim].get_yaxis().set_ticks([]);\n",
    "        axs[dim].spines['right'].set_color('none')\n",
    "        axs[dim].spines['top'].set_color('none')\n",
    "        axs[dim].text(0.3,1,'$\\mathrm{bcd}^{\\mathcal{R}}_{'+str(dim)+'}(X)$', verticalalignment='bottom')"
   ]
  },
  {
   "cell_type": "code",
   "execution_count": 10,
   "id": "9832475c",
   "metadata": {},
   "outputs": [
    {
     "ename": "TypeError",
     "evalue": "Text reading control character must be a single unicode character or None; but got: ', '",
     "output_type": "error",
     "traceback": [
      "\u001b[0;31m---------------------------------------------------------------------------\u001b[0m",
      "\u001b[0;31mTypeError\u001b[0m                                 Traceback (most recent call last)",
      "Cell \u001b[0;32mIn[10], line 15\u001b[0m\n\u001b[1;32m      1\u001b[0m \u001b[38;5;66;03m# upload the excel files using pandas\u001b[39;00m\n\u001b[1;32m      2\u001b[0m \n\u001b[1;32m      3\u001b[0m \u001b[38;5;66;03m# data = pentagon((math.pi)/3, (math.pi)/3, [1,1,1,1])\u001b[39;00m\n\u001b[0;32m   (...)\u001b[0m\n\u001b[1;32m     12\u001b[0m \u001b[38;5;66;03m# # complex_data = np.array(complex_data)\u001b[39;00m\n\u001b[1;32m     13\u001b[0m \u001b[38;5;66;03m# rearr_data = np.array(rearr_data)\u001b[39;00m\n\u001b[0;32m---> 15\u001b[0m penta \u001b[38;5;241m=\u001b[39m \u001b[43mnp\u001b[49m\u001b[38;5;241;43m.\u001b[39;49m\u001b[43mloadtxt\u001b[49m\u001b[43m(\u001b[49m\u001b[38;5;124;43m'\u001b[39;49m\u001b[38;5;124;43msphere clean.txt\u001b[39;49m\u001b[38;5;124;43m'\u001b[39;49m\u001b[43m,\u001b[49m\u001b[43m \u001b[49m\u001b[43mdelimiter\u001b[49m\u001b[38;5;241;43m=\u001b[39;49m\u001b[38;5;124;43m'\u001b[39;49m\u001b[38;5;124;43m, \u001b[39;49m\u001b[38;5;124;43m'\u001b[39;49m\u001b[43m)\u001b[49m\n",
      "File \u001b[0;32m~/anaconda3/lib/python3.10/site-packages/numpy/lib/npyio.py:1338\u001b[0m, in \u001b[0;36mloadtxt\u001b[0;34m(fname, dtype, comments, delimiter, converters, skiprows, usecols, unpack, ndmin, encoding, max_rows, quotechar, like)\u001b[0m\n\u001b[1;32m   1335\u001b[0m \u001b[38;5;28;01mif\u001b[39;00m \u001b[38;5;28misinstance\u001b[39m(delimiter, \u001b[38;5;28mbytes\u001b[39m):\n\u001b[1;32m   1336\u001b[0m     delimiter \u001b[38;5;241m=\u001b[39m delimiter\u001b[38;5;241m.\u001b[39mdecode(\u001b[38;5;124m'\u001b[39m\u001b[38;5;124mlatin1\u001b[39m\u001b[38;5;124m'\u001b[39m)\n\u001b[0;32m-> 1338\u001b[0m arr \u001b[38;5;241m=\u001b[39m \u001b[43m_read\u001b[49m\u001b[43m(\u001b[49m\u001b[43mfname\u001b[49m\u001b[43m,\u001b[49m\u001b[43m \u001b[49m\u001b[43mdtype\u001b[49m\u001b[38;5;241;43m=\u001b[39;49m\u001b[43mdtype\u001b[49m\u001b[43m,\u001b[49m\u001b[43m \u001b[49m\u001b[43mcomment\u001b[49m\u001b[38;5;241;43m=\u001b[39;49m\u001b[43mcomment\u001b[49m\u001b[43m,\u001b[49m\u001b[43m \u001b[49m\u001b[43mdelimiter\u001b[49m\u001b[38;5;241;43m=\u001b[39;49m\u001b[43mdelimiter\u001b[49m\u001b[43m,\u001b[49m\n\u001b[1;32m   1339\u001b[0m \u001b[43m            \u001b[49m\u001b[43mconverters\u001b[49m\u001b[38;5;241;43m=\u001b[39;49m\u001b[43mconverters\u001b[49m\u001b[43m,\u001b[49m\u001b[43m \u001b[49m\u001b[43mskiplines\u001b[49m\u001b[38;5;241;43m=\u001b[39;49m\u001b[43mskiprows\u001b[49m\u001b[43m,\u001b[49m\u001b[43m \u001b[49m\u001b[43musecols\u001b[49m\u001b[38;5;241;43m=\u001b[39;49m\u001b[43musecols\u001b[49m\u001b[43m,\u001b[49m\n\u001b[1;32m   1340\u001b[0m \u001b[43m            \u001b[49m\u001b[43munpack\u001b[49m\u001b[38;5;241;43m=\u001b[39;49m\u001b[43munpack\u001b[49m\u001b[43m,\u001b[49m\u001b[43m \u001b[49m\u001b[43mndmin\u001b[49m\u001b[38;5;241;43m=\u001b[39;49m\u001b[43mndmin\u001b[49m\u001b[43m,\u001b[49m\u001b[43m \u001b[49m\u001b[43mencoding\u001b[49m\u001b[38;5;241;43m=\u001b[39;49m\u001b[43mencoding\u001b[49m\u001b[43m,\u001b[49m\n\u001b[1;32m   1341\u001b[0m \u001b[43m            \u001b[49m\u001b[43mmax_rows\u001b[49m\u001b[38;5;241;43m=\u001b[39;49m\u001b[43mmax_rows\u001b[49m\u001b[43m,\u001b[49m\u001b[43m \u001b[49m\u001b[43mquote\u001b[49m\u001b[38;5;241;43m=\u001b[39;49m\u001b[43mquotechar\u001b[49m\u001b[43m)\u001b[49m\n\u001b[1;32m   1343\u001b[0m \u001b[38;5;28;01mreturn\u001b[39;00m arr\n",
      "File \u001b[0;32m~/anaconda3/lib/python3.10/site-packages/numpy/lib/npyio.py:999\u001b[0m, in \u001b[0;36m_read\u001b[0;34m(fname, delimiter, comment, quote, imaginary_unit, usecols, skiplines, max_rows, converters, ndmin, unpack, dtype, encoding)\u001b[0m\n\u001b[1;32m    996\u001b[0m     data \u001b[38;5;241m=\u001b[39m _preprocess_comments(data, comments, encoding)\n\u001b[1;32m    998\u001b[0m \u001b[38;5;28;01mif\u001b[39;00m read_dtype_via_object_chunks \u001b[38;5;129;01mis\u001b[39;00m \u001b[38;5;28;01mNone\u001b[39;00m:\n\u001b[0;32m--> 999\u001b[0m     arr \u001b[38;5;241m=\u001b[39m \u001b[43m_load_from_filelike\u001b[49m\u001b[43m(\u001b[49m\n\u001b[1;32m   1000\u001b[0m \u001b[43m        \u001b[49m\u001b[43mdata\u001b[49m\u001b[43m,\u001b[49m\u001b[43m \u001b[49m\u001b[43mdelimiter\u001b[49m\u001b[38;5;241;43m=\u001b[39;49m\u001b[43mdelimiter\u001b[49m\u001b[43m,\u001b[49m\u001b[43m \u001b[49m\u001b[43mcomment\u001b[49m\u001b[38;5;241;43m=\u001b[39;49m\u001b[43mcomment\u001b[49m\u001b[43m,\u001b[49m\u001b[43m \u001b[49m\u001b[43mquote\u001b[49m\u001b[38;5;241;43m=\u001b[39;49m\u001b[43mquote\u001b[49m\u001b[43m,\u001b[49m\n\u001b[1;32m   1001\u001b[0m \u001b[43m        \u001b[49m\u001b[43mimaginary_unit\u001b[49m\u001b[38;5;241;43m=\u001b[39;49m\u001b[43mimaginary_unit\u001b[49m\u001b[43m,\u001b[49m\n\u001b[1;32m   1002\u001b[0m \u001b[43m        \u001b[49m\u001b[43musecols\u001b[49m\u001b[38;5;241;43m=\u001b[39;49m\u001b[43musecols\u001b[49m\u001b[43m,\u001b[49m\u001b[43m \u001b[49m\u001b[43mskiplines\u001b[49m\u001b[38;5;241;43m=\u001b[39;49m\u001b[43mskiplines\u001b[49m\u001b[43m,\u001b[49m\u001b[43m \u001b[49m\u001b[43mmax_rows\u001b[49m\u001b[38;5;241;43m=\u001b[39;49m\u001b[43mmax_rows\u001b[49m\u001b[43m,\u001b[49m\n\u001b[1;32m   1003\u001b[0m \u001b[43m        \u001b[49m\u001b[43mconverters\u001b[49m\u001b[38;5;241;43m=\u001b[39;49m\u001b[43mconverters\u001b[49m\u001b[43m,\u001b[49m\u001b[43m \u001b[49m\u001b[43mdtype\u001b[49m\u001b[38;5;241;43m=\u001b[39;49m\u001b[43mdtype\u001b[49m\u001b[43m,\u001b[49m\n\u001b[1;32m   1004\u001b[0m \u001b[43m        \u001b[49m\u001b[43mencoding\u001b[49m\u001b[38;5;241;43m=\u001b[39;49m\u001b[43mencoding\u001b[49m\u001b[43m,\u001b[49m\u001b[43m \u001b[49m\u001b[43mfilelike\u001b[49m\u001b[38;5;241;43m=\u001b[39;49m\u001b[43mfilelike\u001b[49m\u001b[43m,\u001b[49m\n\u001b[1;32m   1005\u001b[0m \u001b[43m        \u001b[49m\u001b[43mbyte_converters\u001b[49m\u001b[38;5;241;43m=\u001b[39;49m\u001b[43mbyte_converters\u001b[49m\u001b[43m)\u001b[49m\n\u001b[1;32m   1007\u001b[0m \u001b[38;5;28;01melse\u001b[39;00m:\n\u001b[1;32m   1008\u001b[0m     \u001b[38;5;66;03m# This branch reads the file into chunks of object arrays and then\u001b[39;00m\n\u001b[1;32m   1009\u001b[0m     \u001b[38;5;66;03m# casts them to the desired actual dtype.  This ensures correct\u001b[39;00m\n\u001b[1;32m   1010\u001b[0m     \u001b[38;5;66;03m# string-length and datetime-unit discovery (like `arr.astype()`).\u001b[39;00m\n\u001b[1;32m   1011\u001b[0m     \u001b[38;5;66;03m# Due to chunking, certain error reports are less clear, currently.\u001b[39;00m\n\u001b[1;32m   1012\u001b[0m     \u001b[38;5;28;01mif\u001b[39;00m filelike:\n",
      "\u001b[0;31mTypeError\u001b[0m: Text reading control character must be a single unicode character or None; but got: ', '"
     ]
    }
   ],
   "source": [
    "# upload the excel files using pandas\n",
    "\n",
    "# data = pentagon((math.pi)/3, (math.pi)/3, [1,1,1,1])\n",
    "# # print(data)\n",
    "# # complex_data = []\n",
    "# rearr_data = []\n",
    "# # print(len(data))\n",
    "# for i in range(4):\n",
    "# #     complex_data.append([complex(data[i][0][0], data[i][0][1]), complex(data[i][1][0], data[i][1][1]), complex(data[i][2][0], data[i][2][1]), complex(data[i][3][0], data[i][3][1]), complex(data[i][4][0], data[i][4][1])])\n",
    "#     rearr_data.append([(data[i][0][0], data[i][0][1]), (data[i][1][0], data[i][1][1]), (data[i][2][0], data[i][2][1]), (data[i][3][0], data[i][3][1]), (data[i][4][0], data[i][4][1])])\n",
    "# # print(data)\n",
    "# # complex_data = np.array(complex_data)\n",
    "# rearr_data = np.array(rearr_data)\n",
    "\n",
    "penta = np.loadtxt('sphere clean.txt', delimiter=', ')\n",
    "\n",
    "# print(data.shape[0])\n"
   ]
  },
  {
   "cell_type": "code",
   "execution_count": 5,
   "id": "1e9a667e",
   "metadata": {
    "scrolled": true
   },
   "outputs": [],
   "source": [
    "#Using Ripser, we will find the persistence diagrams\n",
    "#Here I am referecing code from Demo 6 in Day 5 DREimac\n",
    "\n",
    "# Persistence Computation\n",
    "# print(data.shape)\n",
    "\n",
    "# n_land = 300\n",
    "# res = ripser(data.T, maxdim=2, coeff =13, thresh = 1.8)\n",
    "# dgms = res['dgms']\n",
    "# plt.figure(figsize = (4,4)) \n",
    "# plot_diagrams(dgms)\n",
    "\n"
   ]
  },
  {
   "cell_type": "code",
   "execution_count": null,
   "id": "cba5db67",
   "metadata": {},
   "outputs": [],
   "source": []
  }
 ],
 "metadata": {
  "kernelspec": {
   "display_name": "Python 3 (ipykernel)",
   "language": "python",
   "name": "python3"
  },
  "language_info": {
   "codemirror_mode": {
    "name": "ipython",
    "version": 3
   },
   "file_extension": ".py",
   "mimetype": "text/x-python",
   "name": "python",
   "nbconvert_exporter": "python",
   "pygments_lexer": "ipython3",
   "version": "3.10.9"
  }
 },
 "nbformat": 4,
 "nbformat_minor": 5
}
