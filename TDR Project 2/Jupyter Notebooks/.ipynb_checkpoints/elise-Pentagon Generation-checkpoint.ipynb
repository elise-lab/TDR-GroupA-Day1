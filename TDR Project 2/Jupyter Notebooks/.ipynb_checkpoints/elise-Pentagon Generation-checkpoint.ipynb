{
 "cells": [
  {
   "cell_type": "markdown",
   "id": "ebcfd72e",
   "metadata": {},
   "source": [
    "This code will be used to generate a sampling of n pentagons from the moduli space of pentagons with side lengths $0\\neq (d_1,d_2,d_3,d_4,d_5)\\in R^5$. Without loss of generality we can assume that $d_1=1$ because the moduli space for $(d_1,d_2,d_3,d_4,d_5)$ is the same as the moduli space for $(d_1/d_1=1,d_2/d_1,d_3/d_1,d_4/d_1,d_5/d_1)$. In essence, for any pentagon with no side lengths equal to 1, we can scale all of the side lengths so that one side length is equal to 1 and the pentagons are geometrically the same."
   ]
  },
  {
   "cell_type": "code",
<<<<<<< Updated upstream
   "execution_count": 36,
   "id": "fd37c8f7",
   "metadata": {},
   "outputs": [],
=======
   "execution_count": 75,
   "id": "fd37c8f7",
   "metadata": {},
   "outputs": [
    {
     "ename": "ModuleNotFoundError",
     "evalue": "No module named 'shapely'",
     "output_type": "error",
     "traceback": [
      "\u001b[0;31m---------------------------------------------------------------------------\u001b[0m",
      "\u001b[0;31mModuleNotFoundError\u001b[0m                       Traceback (most recent call last)",
      "Cell \u001b[0;32mIn[75], line 6\u001b[0m\n\u001b[1;32m      2\u001b[0m \u001b[38;5;28;01mimport\u001b[39;00m \u001b[38;5;21;01mmath\u001b[39;00m\n\u001b[1;32m      4\u001b[0m \u001b[38;5;28;01mimport\u001b[39;00m \u001b[38;5;21;01mmatplotlib\u001b[39;00m\n\u001b[0;32m----> 6\u001b[0m \u001b[38;5;28;01mfrom\u001b[39;00m \u001b[38;5;21;01mshapely\u001b[39;00m\u001b[38;5;21;01m.\u001b[39;00m\u001b[38;5;21;01mgeometry\u001b[39;00m\u001b[38;5;21;01m.\u001b[39;00m\u001b[38;5;21;01mpolygon\u001b[39;00m \u001b[38;5;28;01mimport\u001b[39;00m LinearRing, Polygon\n\u001b[1;32m      8\u001b[0m \u001b[38;5;28;01mfrom\u001b[39;00m \u001b[38;5;21;01mmatplotlib\u001b[39;00m \u001b[38;5;28;01mimport\u001b[39;00m pyplot \u001b[38;5;28;01mas\u001b[39;00m plt\n\u001b[1;32m      9\u001b[0m \u001b[38;5;66;03m#first we define a function which takes theta1,theta2,(d_2,d_3,d_4,d_5)\u001b[39;00m\n\u001b[1;32m     10\u001b[0m \u001b[38;5;66;03m#assuming d_1=1 and outputs a list [(a,b),...]\u001b[39;00m\n\u001b[1;32m     11\u001b[0m \u001b[38;5;66;03m#of length 5 with each entry a tuple with coordinates for a vertex of the pentagon\u001b[39;00m\n",
      "\u001b[0;31mModuleNotFoundError\u001b[0m: No module named 'shapely'"
     ]
    }
   ],
>>>>>>> Stashed changes
   "source": [
    "import numpy as np\n",
    "import math\n",
    "\n",
    "import matplotlib\n",
    "\n",
<<<<<<< Updated upstream
=======
    "from shapely.geometry.polygon import LinearRing, Polygon\n",
    "\n",
>>>>>>> Stashed changes
    "from matplotlib import pyplot as plt\n",
    "#first we define a function which takes theta1,theta2,(d_2,d_3,d_4,d_5)\n",
    "#assuming d_1=1 and outputs a list [(a,b),...]\n",
    "#of length 5 with each entry a tuple with coordinates for a vertex of the pentagon\n",
    "\n",
    "\n",
    "def len_side(a, b, C):#law of cosines for sides a,b and angle C\n",
    "    C_rad = math.radians(C)\n",
    "    c_sq = a ** 2 + b ** 2 - 2 * a * b * math.cos(C_rad)\n",
    "    c = math.sqrt(c_sq)\n",
    "    return c\n",
    "\n",
    "def angle_from_side(a, b, c):#law of cosines for sides a,b,c returning angle C\n",
    "    cos_c = (a **2 + b ** 2 - c ** 2)/(2*a*b)\n",
    "    C = math.acos(cos_c)\n",
    "    return C\n",
    "\n",
    "def get_intersections(x0, y0, r0, x1, y1, r1):#find intersection points of two circles\n",
    "    # circle 1: (x0, y0), radius r0\n",
    "    # circle 2: (x1, y1), radius r1\n",
    "\n",
    "    d=math.sqrt((x1-x0)**2 + (y1-y0)**2)\n",
    "    \n",
    "    # non intersecting\n",
    "    if d > r0 + r1 :\n",
    "        return None\n",
    "    # One circle within other\n",
    "    if d < abs(r0-r1):\n",
    "        return None\n",
    "    # coincident circles\n",
    "    if d == 0 and r0 == r1:\n",
    "        return None\n",
    "    else:\n",
    "        a=(r0**2-r1**2+d**2)/(2*d)\n",
    "        h=math.sqrt(r0**2-a**2)\n",
    "        x2=x0+a*(x1-x0)/d   \n",
    "        y2=y0+a*(y1-y0)/d   \n",
    "        x3=x2+h*(y1-y0)/d     \n",
    "        y3=y2-h*(x1-x0)/d \n",
    "\n",
    "        x4=x2-h*(y1-y0)/d\n",
    "        y4=y2+h*(x1-x0)/d\n",
    "        \n",
    "        return [(x3, y3), (x4, y4)]\n",
    "\n",
    "def pentagon(theta1, theta2, distances):\n",
    "    if sum(distances)<1:\n",
    "        raise Exception('Distances too small to make a valid pentagon.')\n",
    "        \n",
    "    output=[]\n",
    "    w2=(1+distances[0]*np.cos(theta2),distances[0]*np.sin(theta2))\n",
    "    \n",
    "    b=len_side(distances[3],1,theta1)\n",
    "    thetapp=theta2-angle_from_side(b,1,distances[3])\n",
    "    c=len_side(b,distances[0],thetapp)#used law of cosines x3 to find c=distance between w2,w4\n",
    "    \n",
    "    if c>distances[1]+distances[2]:\n",
    "        raise Exception('Angles and distances cannot form a valid pentagon.')\n",
    "        \n",
    "    w4=(distances[3]*np.cos(theta1),distances[3]*np.sin(theta1))\n",
    "    w3s=get_intersections(w2[0],w2[1],distances[1],w4[0],w4[1],distances[2])\n",
    "    if w3s is None:\n",
    "        raise Exception('Could not calculate circle intersection')\n",
    "    if w3s[0]!=w3s[1]:#if w3s[0] does not equal w3s[1] then the circle has two \n",
    "        #intersection points and there are two valid pentagons\n",
    "        p1=[np.array((0,0)),np.array((1,0)),np.array(w2)]#append w0,w1,w2\n",
    "        p1.append(np.array(w3s[0]))#append w3\n",
    "        p1.append(np.array(w4))#append w4\n",
    "        output.append(np.array(p1))\n",
    "        p2=[np.array((0,0)),np.array((1,0)),np.array(w2)]#append w0,w1,w2\n",
    "        p2.append(np.array(w3s[1]))#append w3\n",
    "        p2.append(np.array(w4))#append w4\n",
    "        output.append(np.array(p2))\n",
    "    else:\n",
    "        p1=[np.array((0,0)),np.array((1,0)),np.array(w2)]#append w0,w1,w2\n",
    "        p1.append(np.array(w3s[0]))#append w3\n",
    "        p1.append(np.array(w4))#append w4\n",
    "        output.append(np.array(p1))\n",
    "    \n",
    "    return output\n",
    "\n",
    "p=pentagon(1/2,1/2,[1,1,1,1])"
   ]
  },
  {
   "cell_type": "code",
<<<<<<< Updated upstream
   "execution_count": 53,
=======
   "execution_count": 74,
>>>>>>> Stashed changes
   "id": "fca0e761",
   "metadata": {},
   "outputs": [
    {
<<<<<<< Updated upstream
     "ename": "TypeError",
     "evalue": "'Polygon' object is not callable",
     "output_type": "error",
     "traceback": [
      "\u001b[0;31m---------------------------------------------------------------------------\u001b[0m",
      "\u001b[0;31mTypeError\u001b[0m                                 Traceback (most recent call last)",
      "Cell \u001b[0;32mIn[53], line 17\u001b[0m\n\u001b[1;32m     14\u001b[0m pent\u001b[38;5;241m.\u001b[39mshape\n\u001b[1;32m     16\u001b[0m penta \u001b[38;5;241m=\u001b[39m matplotlib\u001b[38;5;241m.\u001b[39mpatches\u001b[38;5;241m.\u001b[39mPolygon(pent, closed\u001b[38;5;241m=\u001b[39m\u001b[38;5;28;01mTrue\u001b[39;00m)\n\u001b[0;32m---> 17\u001b[0m \u001b[38;5;28mprint\u001b[39m(\u001b[43mpenta\u001b[49m\u001b[43m(\u001b[49m\u001b[38;5;241;43m0\u001b[39;49m\u001b[43m)\u001b[49m)\n",
      "\u001b[0;31mTypeError\u001b[0m: 'Polygon' object is not callable"
     ]
=======
     "ename": "NameError",
     "evalue": "name 'Polygon' is not defined",
     "output_type": "error",
     "traceback": [
      "\u001b[0;31m---------------------------------------------------------------------------\u001b[0m",
      "\u001b[0;31mNameError\u001b[0m                                 Traceback (most recent call last)",
      "Cell \u001b[0;32mIn[74], line 17\u001b[0m\n\u001b[1;32m     14\u001b[0m pent \u001b[38;5;241m=\u001b[39m np\u001b[38;5;241m.\u001b[39marray(pent)\n\u001b[1;32m     15\u001b[0m pent\u001b[38;5;241m.\u001b[39mshape\n\u001b[0;32m---> 17\u001b[0m penta \u001b[38;5;241m=\u001b[39m \u001b[43mPolygon\u001b[49m(pent)\n",
      "\u001b[0;31mNameError\u001b[0m: name 'Polygon' is not defined"
     ]
    },
    {
     "data": {
      "image/png": "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\n",
      "text/plain": [
       "<Figure size 640x480 with 1 Axes>"
      ]
     },
     "metadata": {},
     "output_type": "display_data"
>>>>>>> Stashed changes
    }
   ],
   "source": [
    "p=np.array(pentagon(1/2,1/2,[1,1,1,1]))\n",
    "pent = []\n",
    "x_coords = []\n",
    "y_coords = []\n",
    "# print(p[0])\n",
    "# print(\"x coordindates\")\n",
    "for j in range(5):\n",
    "    pent.append([p[0][j][0], p[0][j][1]])\n",
<<<<<<< Updated upstream
    "    # y_coords.append(p[0][j][1])\n",
    "\n",
    "# plt.plot(x_coords, y_coords)\n",
=======
    "    x_coords.append(p[0][j][0])\n",
    "    y_coords.append(p[0][j][1])\n",
    "\n",
    "plt.plot(x_coords, y_coords)\n",
>>>>>>> Stashed changes
    "p.shape\n",
    "pent = np.array(pent)\n",
    "pent.shape\n",
    "\n",
<<<<<<< Updated upstream
    "penta = matplotlib.patches.Polygon(pent, closed=True)"
=======
    "penta = Polygon(pent)\n",
    "# print(penta)\n",
    "# ax.add_patch(penta)\n",
    "# fig.savefig(\"patch.png\")"
>>>>>>> Stashed changes
   ]
  },
  {
   "cell_type": "code",
   "execution_count": 9,
   "id": "25c9f86a",
   "metadata": {},
   "outputs": [
    {
     "data": {
      "text/plain": [
       "0.9999999999999999"
      ]
     },
     "execution_count": 9,
     "metadata": {},
     "output_type": "execute_result"
    }
   ],
   "source": [
    "np.linalg.norm(p[1][2]-p[1][3])"
   ]
  },
  {
   "cell_type": "code",
<<<<<<< Updated upstream
   "execution_count": null,
   "id": "7ff9e555",
   "metadata": {},
=======
   "execution_count": 68,
   "id": "7ff9e555",
   "metadata": {},
   "outputs": [
    {
     "data": {
      "image/png": "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\n",
      "text/plain": [
       "<Figure size 640x480 with 1 Axes>"
      ]
     },
     "metadata": {},
     "output_type": "display_data"
    }
   ],
   "source": [
    "path = [\n",
    "    [.1, .3],\n",
    "    [.2, .9],\n",
    "    [.8, .4],\n",
    "]\n",
    "fig = plt.figure()\n",
    "ax = fig.gca()\n",
    "ax.add_patch(matplotlib.patches.Polygon(pent))\n",
    "fig.savefig(\"triangle_patch.png\", dpi=150)\n",
    "# plt.close()"
   ]
  },
  {
   "cell_type": "code",
   "execution_count": null,
   "id": "73b241cc-3b53-412b-b36a-4a300792279f",
   "metadata": {},
>>>>>>> Stashed changes
   "outputs": [],
   "source": []
  }
 ],
 "metadata": {
  "kernelspec": {
   "display_name": "Python 3 (ipykernel)",
   "language": "python",
   "name": "python3"
  },
  "language_info": {
   "codemirror_mode": {
    "name": "ipython",
    "version": 3
   },
   "file_extension": ".py",
   "mimetype": "text/x-python",
   "name": "python",
   "nbconvert_exporter": "python",
   "pygments_lexer": "ipython3",
   "version": "3.10.9"
  }
 },
 "nbformat": 4,
 "nbformat_minor": 5
}
