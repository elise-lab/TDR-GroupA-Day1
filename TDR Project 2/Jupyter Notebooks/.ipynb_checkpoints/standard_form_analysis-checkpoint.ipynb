{
 "cells": [
  {
   "cell_type": "markdown",
   "id": "df18868b",
   "metadata": {},
   "source": [
    "This file will upload the functions of Pentagon Generation and I will create and test a function that will determine the number of equivalence classes in our data of $M_5(d_1, d_2, d_, d_4, d_5)$"
   ]
  },
  {
   "cell_type": "code",
   "execution_count": null,
   "id": "ff10a0f4",
   "metadata": {},
   "outputs": [],
   "source": [
    "# Here we will load the former functions of the Pentagon Generation file\n",
    "\n"
   ]
  },
  {
   "cell_type": "code",
   "execution_count": null,
   "id": "3a9d5635",
   "metadata": {},
   "outputs": [],
   "source": [
    "def standard_form_analysis(penta):\n",
    "    #penta should be list of pentagons, so there is nested list notation\n",
    "    size = len(penta)\n",
    "    for i in range(size):\n",
    "        #call a pentagon, its vertices specifically\n",
    "        stand = (1, (penta[i][1] - penta[i][4])/(penta[i][0] - penta[i][4]), (penta[i][2] - penta[i][4])/(penta[i][0] - penta[i][4]), (penta[i][3] - penta[i][4])/(penta[i][0] - penta[i][4]), 0)\n",
    "        \n",
    "        # apply the formula and create the standard form\n",
    "        #search for the key in dictionary: if it lives there, then add a one to the data\n",
    "        #if a key cannot be found then create a key, add it to an empty dictionary and add 1"
   ]
  }
 ],
 "metadata": {
  "kernelspec": {
   "display_name": "Python 3 (ipykernel)",
   "language": "python",
   "name": "python3"
  },
  "language_info": {
   "codemirror_mode": {
    "name": "ipython",
    "version": 3
   },
   "file_extension": ".py",
   "mimetype": "text/x-python",
   "name": "python",
   "nbconvert_exporter": "python",
   "pygments_lexer": "ipython3",
   "version": "3.10.9"
  }
 },
 "nbformat": 4,
 "nbformat_minor": 5
}
