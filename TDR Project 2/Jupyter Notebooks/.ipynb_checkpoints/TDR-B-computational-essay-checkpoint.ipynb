{
 "cells": [
  {
   "cell_type": "markdown",
   "id": "bde391a4",
   "metadata": {},
   "source": [
    "\n",
    "# Manifold Modeling of Pentagon Spaces Using Laplacian Eigenfunctions"
   ]
  },
  {
   "cell_type": "markdown",
   "id": "638962c0",
   "metadata": {},
   "source": [
    "## Introduction :"
   ]
  },
  {
   "cell_type": "markdown",
   "id": "cda403b6",
   "metadata": {},
   "source": [
    "A pentagon $p$ is a vector $(z_1,z_2,z_3,z_4,z_5)\\in\\mathbb{C}^5$ such that $d_i=|z_{i+1}-z_i|>0, \\forall 1\\leq i\\leq 4$ where $z_6=z_1$."
   ]
  },
  {
   "cell_type": "markdown",
   "id": "e6a9a7d1",
   "metadata": {},
   "source": [
    "Let $(d_1,d_2,d_3,d_4,d_5)\\in\\mathbb{R}^5$. The moduli space of pentagons with side lengths $(d_1,d_2,d_3,d_4,d_5)$ is the quotient \n",
    "\n",
    "$$\\mathcal M_5(d_1,d_2,d_3,d_4,d_5):=\\{p=(z_1,z_2,z_3,z_4,z_5)\\in\\mathbb{C}^5\\mid d_i=|z_{i+1}-z_i|>0, \\forall 1\\leq i\\leq 5,\\}/\\sim$$ \n",
    "\n",
    "where $z_6=z_1$. The equivalence relation $\\sim$ is defined as follows: $p=(z_1,z_2,z_3,z_4,z_5),p'=(z'_1,z'_2,z'_3,z'_4,z'_5)$ are equivalent if and only if there exists $a,b\\in C$ with $|a|=1$ such that $z_i=az'_i+b,\\forall 1\\leq i\\leq 5$."
   ]
  },
  {
   "cell_type": "markdown",
   "id": "0e665af7",
   "metadata": {},
   "source": [
    "Klaus and Kojima prove that the space of pentagons is a closed smooth 2-manifold. However, depending on the choice of edge lengths, the moduli space will change topologically. Thus, the need to properly sample $\\mathcal M_5(d_1,d_2,d_3,d_4,d_5)$ comes into play. Additionally, $\\mathcal M_5(d_1,d_2,d_3,d_4,d_5) \\subseteq \\mathbb{C}^5$. For different moduli spaces, we know the surface they create: genus 3 surface or a sphere. These lie in higher dimensions and since we cannot view such high dimensional data directly, we use several tools to appriately reduce the dimension of our data and preserve topological data. "
   ]
  },
  {
   "cell_type": "markdown",
   "id": "daef564a",
   "metadata": {},
   "source": [
    "These tools start with topological dimensionality reduction via DREiMac and then an unfolding onto a surfaces planar model. A final visualization uses the Moore-Penrose pseudo-inverse which models a best-fit manifold for our data."
   ]
  },
  {
   "cell_type": "markdown",
   "id": "bacd75dd",
   "metadata": {},
   "source": [
    "## Sampling the Space of Pentagons"
   ]
  },
  {
   "cell_type": "code",
   "execution_count": 2,
   "id": "3284b9d9",
   "metadata": {},
   "outputs": [],
   "source": [
    "import numpy as np\n",
    "import math\n",
    "\n",
    "def get_intersections(x0, y0, r0, x1, y1, r1, n=10):#find intersection points of two circles\n",
    "    # circle 1: (x0, y0), radius r0\n",
    "    # circle 2: (x1, y1), radius r1\n",
    "\n",
    "    d=math.sqrt((x1-x0)**2 + (y1-y0)**2)\n",
    "\n",
    "    #change the following nones to be more descriptive\n",
    "\n",
    "    # non intersecting\n",
    "    if d > r0 + r1 :\n",
    "        print('non intersecting')\n",
    "        return 'non intersecting'\n",
    "    # One circle within other\n",
    "    if d < abs(r0-r1):\n",
    "        print('inscribed')\n",
    "        return 'inscribed'\n",
    "    # coincident circles\n",
    "    if d == 0 and r0 == r1:\n",
    "        points=[]\n",
    "        for i in range(math.ceil(n*0.01)):\n",
    "            points.append(x0+r0*np.cos(i*2*math.pi*(1/math.ceil(n*0.01))),y0+r0*np.sin(i*2*math.pi*(1/math.ceil(n*0.01))))\n",
    "        return points\n",
    "    else:\n",
    "        a=(r0**2-r1**2+d**2)/(2*d)\n",
    "        h=math.sqrt(r0**2-a**2)\n",
    "        x2=x0+a*(x1-x0)/d\n",
    "        y2=y0+a*(y1-y0)/d\n",
    "        x3=x2+h*(y1-y0)/d\n",
    "        y3=y2-h*(x1-x0)/d\n",
    "\n",
    "        x4=x2-h*(y1-y0)/d\n",
    "        y4=y2+h*(x1-x0)/d\n",
    "\n",
    "        return [[x3, y3], [x4, y4]]"
   ]
  },
  {
   "cell_type": "code",
   "execution_count": 3,
   "id": "a9f044e3",
   "metadata": {},
   "outputs": [],
   "source": [
    "def pentagon(z3, dist): #z3 in numpy array form\n",
    "    if np.linalg.norm(z3-np.array([1,0]))>dist[0]+dist[1] or np.linalg.norm(z3)>dist[2]+dist[3]:\n",
    "        print(z3)\n",
    "        raise Exception('z3 out of range')\n",
    "\n",
    "    z2s=get_intersections(z3[0], z3[1], dist[1], 1, 0, dist[0])\n",
    "    z4s=get_intersections(z3[0], z3[1], dist[2], 0, 0, dist[3])\n",
    "\n",
    "    output=[]\n",
    "    for i in z2s:\n",
    "        for j in z4s:\n",
    "            if type(j)==str or type(i)==str:\n",
    "                continue\n",
    "            output.append([[1,0],i,z3,j,[0,0]])\n",
    "            output.append([[1,0],[i[0],-1*i[1]],[z3[0],-1*z3[1]],[j[0],-1*j[1]],[0,0]])\n",
    "    return np.asarray(output,dtype=object)    "
   ]
  },
  {
   "cell_type": "code",
   "execution_count": 4,
   "id": "ee00d9a1",
   "metadata": {},
   "outputs": [],
   "source": [
    "def moduli_space_sample(n, dist):\n",
    "    if dist[2]+dist[3]>=(1+dist[0]+dist[1]):\n",
    "        x_vals=np.linspace(1-(dist[0]+dist[1]),1+dist[0]+dist[1],math.ceil(math.sqrt(n//2)))\n",
    "        y_vals=np.linspace(-(dist[0]+dist[1]),dist[0]+dist[1],math.ceil(math.sqrt(n//2)))\n",
    "    elif -(dist[2]+dist[3])>=1-(dist[0]+dist[1]):\n",
    "        x_vals=np.linspace(-(dist[2]+dist[3]),dist[2]+dist[3],math.ceil(math.sqrt(n//2)))\n",
    "        y_vals=np.linspace(-(dist[2]+dist[3]),dist[2]+dist[3],math.ceil(math.sqrt(n//2)))\n",
    "    elif dist[2]+dist[3]<(1+dist[0]+dist[1]) or -(dist[2]+dist[3])<1-(dist[0]+dist[1]):\n",
    "        x_vals=np.linspace(1-(dist[0]+dist[1]),dist[2]+dist[3],math.ceil(math.sqrt(n//2)))\n",
    "        intersections=get_intersections(0,0,dist[2]+dist[3],1,0,dist[0]+dist[1])\n",
    "        if 0<intersections[0][0]<1:\n",
    "            ymax, ymin = max(intersections[0][1],intersections[1][1]), min(intersections[0][1],intersections[1][1])\n",
    "        elif intersections[0][0]<=0:\n",
    "            ymax, ymin = dist[2]+dist[3], -(dist[2]+dist[3])\n",
    "        elif intersections[0][0]>=1:\n",
    "            ymax, ymin = dist[0]+dist[1], -(dist[0]+dist[1])\n",
    "        y_vals=np.linspace(ymin,ymax,math.ceil(math.sqrt(n//2)))\n",
    "\n",
    "    coords=[np.array([x,y]) for x in x_vals for y in y_vals]\n",
    "\n",
    "    output=[]\n",
    "    for i in coords:\n",
    "        if np.linalg.norm(i-np.array([1,0]))<=dist[0]+dist[1] and np.linalg.norm(i)<=dist[2]+dist[3]:\n",
    "            for pent in pentagon(i,dist):\n",
    "                output.append(pent)\n",
    "\n",
    "    return np.asarray(output,dtype=object)"
   ]
  },
  {
   "cell_type": "code",
   "execution_count": 5,
   "id": "fc93f8c7",
   "metadata": {},
   "outputs": [],
   "source": [
    "# import xlwt\n",
    "# import xlrd\n",
    "# from xlwt import Workbook\n",
    "\n",
    "# r=moduli_space_sample(14000, [0.1,0.1,0.4,0.7])\n",
    "\n",
    "# wb = Workbook()\n",
    "# sheet1 = wb.add_sheet('Sheet 1')\n",
    "\n",
    "# def clean(i):\n",
    "#     return (str(np.array(i[0]).tolist())+', '+str(np.array(i[1]).tolist())).replace('[','').replace(']','')\n",
    "\n",
    "# for count1, pent in enumerate(r):\n",
    "#     for count2, i in enumerate(pent):\n",
    "#         sheet1.write(count1, count2, clean(i))\n",
    "\n",
    "# wb.save('data.xls')\n",
    "\n",
    "\n",
    "# workbook = xlrd.open_workbook(r'data.xls')\n",
    "# worksheet = workbook.sheet_by_name('Sheet 1')\n",
    "\n",
    "# with open('data/data clean.txt', 'w+') as f:\n",
    "#     for i in range(worksheet.nrows-1):\n",
    "#         for j in range(4):\n",
    "#             f.write(worksheet.cell(i, j).value)\n",
    "#             f.write(', ')\n",
    "#         f.write(worksheet.cell(i, 4).value)\n",
    "#         f.write('\\n')\n"
   ]
  },
  {
   "cell_type": "markdown",
   "id": "da898b00",
   "metadata": {},
   "source": [
    "## Example Surfaces:\n",
    "The found edge lengths were taken from Klaus and Kojima's paper."
   ]
  },
  {
   "cell_type": "markdown",
   "id": "354e54ea",
   "metadata": {},
   "source": [
    "## Genus 4 Surface: $d = [1, 1, 1, 1, 1]$"
   ]
  },
  {
   "cell_type": "markdown",
   "id": "e5e16150",
   "metadata": {},
   "source": [
    "## Sphere: $d = [0.4, 0.4, 0.4, 0.4, 1]$"
   ]
  },
  {
   "cell_type": "markdown",
   "id": "c4917577",
   "metadata": {},
   "source": [
    "## Genus 2 Surface: $d = [0.1, 0.1, 0.4, 0.7, 1]$"
   ]
  },
  {
   "cell_type": "markdown",
   "id": "56d40821",
   "metadata": {},
   "source": [
    "## Disjoint Tori: $d = [0.1, 0.1, 1, 1, 1]$"
   ]
  },
  {
   "cell_type": "markdown",
   "id": "b569232f",
   "metadata": {},
   "source": [
    "# Topological Dimensionality Reduction on Sampled Moduli Spaces"
   ]
  },
  {
   "cell_type": "markdown",
   "id": "05f475b1",
   "metadata": {},
   "source": [
    "## Genus 4 Surface: $d = [1, 1, 1, 1, 1]$"
   ]
  },
  {
   "cell_type": "markdown",
   "id": "2e2d20a1",
   "metadata": {},
   "source": [
    "## Sphere: $d = [0.4, 0.4, 0.4, 0.4, 0.4]$"
   ]
  },
  {
   "cell_type": "markdown",
   "id": "aab44f43",
   "metadata": {},
   "source": [
    "# Unfolding the Surface of Pentagons"
   ]
  },
  {
   "cell_type": "markdown",
   "id": "64653b74",
   "metadata": {},
   "source": [
    "## DREiMac Torus"
   ]
  },
  {
   "cell_type": "markdown",
   "id": "b1e2cfad",
   "metadata": {},
   "source": [
    "# Finding a Best-Fit Manifold Using Solutions to the Laplacian"
   ]
  },
  {
   "cell_type": "markdown",
   "id": "b56af1b8",
   "metadata": {},
   "source": [
    "## Sphere: $d = [0.4, 0.4, 0.4, 0.4, 0.4]$"
   ]
  }
 ],
 "metadata": {
  "kernelspec": {
   "display_name": "Python 3 (ipykernel)",
   "language": "python",
   "name": "python3"
  },
  "language_info": {
   "codemirror_mode": {
    "name": "ipython",
    "version": 3
   },
   "file_extension": ".py",
   "mimetype": "text/x-python",
   "name": "python",
   "nbconvert_exporter": "python",
   "pygments_lexer": "ipython3",
   "version": "3.10.9"
  }
 },
 "nbformat": 4,
 "nbformat_minor": 5
}
