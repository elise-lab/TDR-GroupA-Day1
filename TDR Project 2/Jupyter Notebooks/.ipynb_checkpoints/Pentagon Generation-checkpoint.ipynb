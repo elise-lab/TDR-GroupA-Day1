{
 "cells": [
  {
   "cell_type": "markdown",
   "id": "51488c55",
   "metadata": {},
   "source": [
    "This code will be used to generate a sampling of n pentagons from the moduli space of pentagons with side lengths 0\\neq (d_1,d_2,d_3,d_4,d_5)\\in R^5. Without loss of generality we can assume that d_1=1 because the moduli space for (d_1,d_2,d_3,d_4,d_5) is the same as the moduli space for (d_1/d_1=1,d_2/d_1,d_3/d_1,d_4/d_1,d_5/d_1). In essence, for any pentagon with no side lengths equal to 1, we can scale all of the side lengths so that one side length is equal to 1 and the pentagons are geometrically the same."
   ]
  },
  {
   "cell_type": "code",
   "execution_count": 2,
   "id": "73116542",
   "metadata": {},
   "outputs": [],
   "source": [
    "import numpy as np\n",
    "import math\n",
    "\n",
    "class InternalException(Exception):\n",
    "    \"Internal Function Error\"\n",
    "\n",
    "def len_side(a, b, C):#law of cosines for sides a,b and angle C\n",
    "    if C>math.pi:\n",
    "        C = 2*math.pi-C\n",
    "    c_sq = a ** 2 + b ** 2 - 2 * a * b * math.cos(C)\n",
    "    c = math.sqrt(c_sq)\n",
    "    return c\n",
    "\n",
    "def angle_from_side(a, b, c):#law of cosines for sides a,b,c returning angle C\n",
    "    \n",
    "    cos_c = (a **2 + b ** 2 - c ** 2)/(2*a*b)\n",
    "    C = math.acos(cos_c)\n",
    "    return C\n",
    "\n",
    "def get_intersections(x0, y0, r0, x1, y1, r1):#find intersection points of two circles\n",
    "    # circle 1: (x0, y0), radius r0\n",
    "    # circle 2: (x1, y1), radius r1\n",
    "\n",
    "    d=math.sqrt((x1-x0)**2 + (y1-y0)**2)\n",
    "    \n",
    "    #change the following nones to be more descriptive\n",
    "    \n",
    "    # non intersecting\n",
    "    if d > r0 + r1 :\n",
    "        return 'non intersecting'\n",
    "    # One circle within other\n",
    "    if d < abs(r0-r1):\n",
    "        return 'inscribed'\n",
    "    # coincident circles\n",
    "    if d == 0 and r0 == r1:\n",
    "        return 'same circle'\n",
    "    else:\n",
    "        a=(r0**2-r1**2+d**2)/(2*d)\n",
    "        h=math.sqrt(r0**2-a**2)\n",
    "        x2=x0+a*(x1-x0)/d   \n",
    "        y2=y0+a*(y1-y0)/d   \n",
    "        x3=x2+h*(y1-y0)/d     \n",
    "        y3=y2-h*(x1-x0)/d \n",
    "\n",
    "        x4=x2-h*(y1-y0)/d\n",
    "        y4=y2+h*(x1-x0)/d\n",
    "        \n",
    "        return [[x3, y3], [x4, y4]]\n",
    "    \n",
    "def max_sum_angle_ad(dist, start_ang): #Take in the distances of our pentagon and calculate max alpha+beta for adjacent angles\n",
    "    if start_ang >= (math.pi)/2:\n",
    "        raise InternalException(\"Input new angle\")\n",
    "    else:\n",
    "        c = dist[1] + dist[2]\n",
    "        b = len_side(c, dist[0], start_ang)\n",
    "        beta = angle_from_side(b, dist[0], c)\n",
    "        alpha = angle_from_side(1, dist[3], b) #weirdness when we consider 1, 1, b?\n",
    "        gamma = angle_from_side(1, b, dist[3])\n",
    "        \n",
    "        return alpha + beta + gamma\n",
    "\n",
    "def max_sum_angle_op(dist, start_ang): #Take in the distances of our pentagon and calculate max alpha+beta for adjacent angles\n",
    "    if start_ang >= (math.pi)/2:\n",
    "        raise InternalException(\"Input new angle\")\n",
    "    else:\n",
    "        c = dist[1] + dist[2]\n",
    "        b = len_side(dist[0], c, start_ang)\n",
    "        gammabeta = angle_from_side(b,dist[0],c)\n",
    "        gamma = angle_from_side(b,1,dist[3])\n",
    "        alpha = angle_from_side(1,dist[3], b)\n",
    "        return alpha+gammabeta-gamma\n",
    "    \n",
    "\n",
    "    \n",
    "#first we define a function which takes theta1,theta2,(d_2,d_3,d_4,d_5) assuming d_1=1 and outputs a list [(a,b),...]\n",
    "#of length 5 with each entry a tuple with coordinates for a vertex of the pentagon\n",
    "    \n",
    "def pentagon(theta1, theta2, distances, orientation='ad'):\n",
    "    if sum(distances)<1:\n",
    "        raise InternalException('Distances too small to make a valid pentagon.')\n",
    "        \n",
    "    output=[]\n",
    "    w2=[1-distances[0]*np.cos(theta2),distances[0]*np.sin(theta2)]\n",
    "    \n",
    "    b=len_side(distances[3],1,theta1)\n",
    "    if orientation == 'ad':\n",
    "        thetapp=theta2-angle_from_side(b,1,distances[3])\n",
    "    elif orientation == 'op':\n",
    "        thetapp=theta2+angle_from_side(b,1,distances[3])\n",
    "    c=len_side(b,distances[0],thetapp)#used law of cosines x3 to find c=distance between w2,w4\n",
    "    \n",
    "    w4=[distances[3]*np.cos(theta1),distances[3]*np.sin(theta1)]\n",
    "    w3s=get_intersections(w2[0],w2[1],distances[1],w4[0],w4[1],distances[2])\n",
    "    \n",
    "    if c>distances[1]+distances[2]: #view dist[1] and dist[2] as the radii of circles centered at vertices\n",
    "        raise InternalException('Angles and distances cannot form a valid pentagon.',c, distances[1]+distances[2])\n",
    "    \n",
    "    if type(w3s) is str:\n",
    "        raise InternalException('Could not calculate circle intersection: ',w3s)\n",
    "    \n",
    "    \n",
    "    if w3s[0]!=w3s[1]:#if w3s[0] does not equal w3s[1] then the circle has two intersection points and there are two valid pentagons\n",
    "        p1=[[0,0],[1,0],w2]#append w0,w1,w2\n",
    "        p1.append(w3s[0])#append w3\n",
    "        p1.append(w4)#append w4\n",
    "        output.append(p1)\n",
    "        p2=[[0,0],[1,0],w2]#append w0,w1,w2\n",
    "        p2.append(w3s[1])#append w3\n",
    "        p2.append(w4)#append w4\n",
    "        output.append(p2)\n",
    "        p3=[[0,0],[1,0],[w2[0],-1*w2[1]],[w3s[0][0],-1*w3s[0][1]],[w4[0],-1*w4[1]]]\n",
    "        p4=[[0,0],[1,0],[w2[0],-1*w2[1]],[w3s[1][0],-1*w3s[1][1]],[w4[0],-1*w4[1]]]\n",
    "        output.append(p3)\n",
    "        output.append(p4)\n",
    "    else:\n",
    "        p1=[[0,0],[1,0],w2]#append w0,w1,w2\n",
    "        p1.append(w3s[0])#append w3\n",
    "        p1.append(w4)#append w4\n",
    "        output.append(p1)\n",
    "        p2=[[0,0],[1,0],[w2[0],-1*w2[1]],[w3s[0][0],-1*w3s[0][1]],[w4[0],-1*w4[1]]]\n",
    "        output.append(p2)\n",
    "    \n",
    "    return np.array(output, dtype=object) #this returns a list 2-4 pentagons, each in numpy array form\n",
    "\n",
    "p=pentagon(6,1/4,[1,1,1,1])"
   ]
  },
  {
   "cell_type": "code",
   "execution_count": 27,
   "id": "d659e5ca",
   "metadata": {},
   "outputs": [
    {
     "data": {
      "text/plain": [
       "4.1887902047863905"
      ]
     },
     "execution_count": 27,
     "metadata": {},
     "output_type": "execute_result"
    }
   ],
   "source": [
    "p.shape\n",
    "max_sum_angle([1,1,1,1], (math.pi)/3)"
   ]
  },
  {
   "cell_type": "code",
   "execution_count": 26,
   "id": "028c89c4",
   "metadata": {},
   "outputs": [
    {
     "data": {
      "text/plain": [
       "4.1887902047863905"
      ]
     },
     "execution_count": 26,
     "metadata": {},
     "output_type": "execute_result"
    }
   ],
   "source": [
    "p\n",
    "max_sum_angle([1,1,1,1], (-math.pi)/3)"
   ]
  },
  {
   "cell_type": "code",
   "execution_count": null,
   "id": "1061c37f",
   "metadata": {},
   "outputs": [],
   "source": []
  },
  {
   "cell_type": "code",
   "execution_count": 38,
   "id": "45b5d70d",
   "metadata": {},
   "outputs": [
    {
     "data": {
      "text/plain": [
       "1.0"
      ]
     },
     "execution_count": 38,
     "metadata": {},
     "output_type": "execute_result"
    }
   ],
   "source": [
    "np.linalg.norm(p[1][4]-p[1][0])"
   ]
  },
  {
   "cell_type": "code",
   "execution_count": 7,
   "id": "8f1fd257",
   "metadata": {},
   "outputs": [
    {
     "name": "stdout",
     "output_type": "stream",
     "text": [
      "[[0 0]\n",
      " [1 0]\n",
      " [0.031087578289355267 0.24740395925452294]\n",
      " [0.07859916817497431 -0.7514667274845268]\n",
      " [0.9601702866503661 -0.27941549819892586]]\n"
     ]
    },
    {
     "data": {
      "image/png": "[encoded data removed]",
      "text/plain": [
       "<Figure size 640x480 with 1 Axes>"
      ]
     },
     "metadata": {},
     "output_type": "display_data"
    }
   ],
   "source": [
    "# import matplotlib.pyplot as plt\n",
    "# %matplotlib inline\n",
    "# data=p[0]\n",
    "# #plt.rcParams[\"figure.figsize\"] = [4.0, 3.50]\n",
    "# plt.scatter(data[:,0],data[:,1])\n",
    "# plt.plot(data[:,0],data[:,1])\n",
    "# print(data)\n",
    "# plt.show()"
   ]
  },
  {
   "cell_type": "markdown",
   "id": "6cf9847c",
   "metadata": {},
   "source": [
    "This next function takes n,(d_2,d_3,d_4,d_5) as an argument and outputs a list of around 2n randomly generated pentagons with side lengths (d_2,d_3,d_4,d_5)."
   ]
  },
  {
   "cell_type": "code",
   "execution_count": 20,
   "id": "d24721dc",
   "metadata": {},
   "outputs": [],
   "source": [
    "\n",
    "\n",
    "def moduli_space_sample(n, distances, start_ang, sampling='rd'):\n",
    "    if sum(distances)<1:\n",
    "        raise Exception('Distances too small to make a valid pentagon.')\n",
    "    \n",
    "    sample=[]\n",
    "    if sampling=='even':\n",
    "        theta1=np.linspace(0,max_sum_angle_ad(distances, start_ang),math.ceil(math.sqrt(n//2)))\n",
    "        for i in theta1:\n",
    "            theta2=np.linspace(0,max_sum_angle_ad(distances, start_ang)-i,math.ceil(math.sqrt(n//2)))\n",
    "            for j in theta2:\n",
    "                try:\n",
    "                    padj=pentagon(float(i),float(j),distances)\n",
    "                    for k in padj:\n",
    "                        sample.append(k)\n",
    "                    popp=pentagon(float(i),float(j),distances,orientation='op')\n",
    "                    for k in popp:\n",
    "                        sample.append(k)\n",
    "                except InternalException as e:\n",
    "                    #print(str(e))\n",
    "                    #print(\"firstloop\")\n",
    "                    continue\n",
    "    elif sampling=='rd':\n",
    "        for i in range(n):\n",
    "            while True:\n",
    "                theta1=np.random.uniform(0,max_sum_angle_ad(distances, start_ang),1)\n",
    "                theta2=np.random.uniform(0,max_sum_angle_ad(distances, start_ang)-theta1,1)\n",
    "                try:\n",
    "                    p=pentagon(theta1,theta2,distances)\n",
    "                    for j in p:\n",
    "                        sample.append(j)\n",
    "                    break\n",
    "                except InternalException as e:\n",
    "                    #print(str(e))\n",
    "                    #print(\"firstloop\")\n",
    "                    continue\n",
    "            while True:\n",
    "                max_angle=max_sum_angle_op(distances, start_ang)\n",
    "                theta1=np.random.uniform(2*math.pi-max_angle,2*math.pi,1)\n",
    "                theta2=np.random.uniform(0,max_angle-(2*math.pi-theta1),1)\n",
    "                try:\n",
    "                    p=pentagon(theta1,theta2,distances, orientation='op')\n",
    "                    for j in p:\n",
    "                        sample.append(j)\n",
    "                    break\n",
    "                except InternalException as e:\n",
    "                    #print(str(e))\n",
    "                    #print(\"secondloop\")\n",
    "                    continue\n",
    "    else:\n",
    "        raise InternalException('Sampling input not an option. Choose rd or even.')\n",
    "        \n",
    "    return sample\n",
    "\n",
    "# r=moduli_space_sample(1,[1,1,1,1], (math.pi/3))\n",
    "# len(r)\n",
    "# r"
   ]
  },
  {
   "cell_type": "code",
   "execution_count": 21,
   "id": "d8ecd89b",
   "metadata": {},
   "outputs": [
    {
     "data": {
      "text/plain": [
       "[array([[0, 0],\n",
       "        [1, 0],\n",
       "        [0.0, 0.0],\n",
       "        [1.0, 0.0],\n",
       "        [2.0, 0.0]], dtype=object),\n",
       " array([[0, 0],\n",
       "        [1, 0],\n",
       "        [0.0, -0.0],\n",
       "        [1.0, -0.0],\n",
       "        [2.0, -0.0]], dtype=object),\n",
       " array([[0, 0],\n",
       "        [1, 0],\n",
       "        [0.0, 0.0],\n",
       "        [1.0, 0.0],\n",
       "        [2.0, 0.0]], dtype=object),\n",
       " array([[0, 0],\n",
       "        [1, 0],\n",
       "        [0.0, -0.0],\n",
       "        [1.0, -0.0],\n",
       "        [2.0, -0.0]], dtype=object)]"
      ]
     },
     "execution_count": 21,
     "metadata": {},
     "output_type": "execute_result"
    }
   ],
   "source": [
    "r=moduli_space_sample(3,[1,1,1,2], (math.pi/5),sampling='even')\n",
    "len(r)\n",
    "r"
   ]
  },
  {
   "cell_type": "code",
   "execution_count": 58,
   "id": "9fa7971b",
   "metadata": {},
   "outputs": [
    {
     "data": {
      "text/plain": [
       "[array([[0, 0],\n",
       "        [1, 0],\n",
       "        [array([1.95462297]), array([-0.29781704])],\n",
       "        [array([1.64121837]), array([0.65180265])],\n",
       "        [array([0.64733176]), array([0.76220836])]], dtype=object),\n",
       " array([[0, 0],\n",
       "        [1, 0],\n",
       "        [array([1.95462297]), array([-0.29781704])],\n",
       "        [array([0.96073636]), array([-0.18741133])],\n",
       "        [array([0.64733176]), array([0.76220836])]], dtype=object),\n",
       " array([[0, 0],\n",
       "        [1, 0],\n",
       "        [array([1.95462297]), array([0.29781704])],\n",
       "        [array([1.64121837]), array([-0.65180265])],\n",
       "        [array([0.64733176]), array([-0.76220836])]], dtype=object),\n",
       " array([[0, 0],\n",
       "        [1, 0],\n",
       "        [array([1.95462297]), array([0.29781704])],\n",
       "        [array([0.96073636]), array([0.18741133])],\n",
       "        [array([0.64733176]), array([-0.76220836])]], dtype=object),\n",
       " array([[0, 0],\n",
       "        [1, 0],\n",
       "        [array([0.00016663]), array([0.01825481])],\n",
       "        [array([-0.112339]), array([-0.97539628])],\n",
       "        [array([0.80931269]), array([-0.58737804])]], dtype=object),\n",
       " array([[0, 0],\n",
       "        [1, 0],\n",
       "        [array([0.00016663]), array([0.01825481])],\n",
       "        [array([0.92181833]), array([0.40627304])],\n",
       "        [array([0.80931269]), array([-0.58737804])]], dtype=object),\n",
       " array([[0, 0],\n",
       "        [1, 0],\n",
       "        [array([0.00016663]), array([-0.01825481])],\n",
       "        [array([-0.112339]), array([0.97539628])],\n",
       "        [array([0.80931269]), array([0.58737804])]], dtype=object),\n",
       " array([[0, 0],\n",
       "        [1, 0],\n",
       "        [array([0.00016663]), array([-0.01825481])],\n",
       "        [array([0.92181833]), array([-0.40627304])],\n",
       "        [array([0.80931269]), array([0.58737804])]], dtype=object),\n",
       " array([[0, 0],\n",
       "        [1, 0],\n",
       "        [array([0.43128387]), array([0.82253387])],\n",
       "        [array([0.37382756]), array([1.82088189])],\n",
       "        [array([-0.17454673]), array([0.98464889])]], dtype=object),\n",
       " array([[0, 0],\n",
       "        [1, 0],\n",
       "        [array([0.43128387]), array([0.82253387])],\n",
       "        [array([-0.11709042]), array([-0.01369913])],\n",
       "        [array([-0.17454673]), array([0.98464889])]], dtype=object),\n",
       " array([[0, 0],\n",
       "        [1, 0],\n",
       "        [array([0.43128387]), array([-0.82253387])],\n",
       "        [array([0.37382756]), array([-1.82088189])],\n",
       "        [array([-0.17454673]), array([-0.98464889])]], dtype=object),\n",
       " array([[0, 0],\n",
       "        [1, 0],\n",
       "        [array([0.43128387]), array([-0.82253387])],\n",
       "        [array([-0.11709042]), array([0.01369913])],\n",
       "        [array([-0.17454673]), array([-0.98464889])]], dtype=object),\n",
       " array([[0, 0],\n",
       "        [1, 0],\n",
       "        [array([0.00124364]), array([0.04985714])],\n",
       "        [array([-0.95552624]), array([0.34070314])],\n",
       "        [array([-0.76720329]), array([-0.64140402])]], dtype=object),\n",
       " array([[0, 0],\n",
       "        [1, 0],\n",
       "        [array([0.00124364]), array([0.04985714])],\n",
       "        [array([0.18956659]), array([-0.93225001])],\n",
       "        [array([-0.76720329]), array([-0.64140402])]], dtype=object),\n",
       " array([[0, 0],\n",
       "        [1, 0],\n",
       "        [array([0.00124364]), array([-0.04985714])],\n",
       "        [array([-0.95552624]), array([-0.34070314])],\n",
       "        [array([-0.76720329]), array([0.64140402])]], dtype=object),\n",
       " array([[0, 0],\n",
       "        [1, 0],\n",
       "        [array([0.00124364]), array([-0.04985714])],\n",
       "        [array([0.18956659]), array([0.93225001])],\n",
       "        [array([-0.76720329]), array([0.64140402])]], dtype=object),\n",
       " array([[0, 0],\n",
       "        [1, 0],\n",
       "        [array([0.01218591]), array([0.15563842])],\n",
       "        [array([0.50155046]), array([1.02771774])],\n",
       "        [array([-0.48651343]), array([0.8736731])]], dtype=object),\n",
       " array([[0, 0],\n",
       "        [1, 0],\n",
       "        [array([0.01218591]), array([0.15563842])],\n",
       "        [array([-0.97587798]), array([0.00159378])],\n",
       "        [array([-0.48651343]), array([0.8736731])]], dtype=object),\n",
       " array([[0, 0],\n",
       "        [1, 0],\n",
       "        [array([0.01218591]), array([-0.15563842])],\n",
       "        [array([0.50155046]), array([-1.02771774])],\n",
       "        [array([-0.48651343]), array([-0.8736731])]], dtype=object),\n",
       " array([[0, 0],\n",
       "        [1, 0],\n",
       "        [array([0.01218591]), array([-0.15563842])],\n",
       "        [array([-0.97587798]), array([-0.00159378])],\n",
       "        [array([-0.48651343]), array([-0.8736731])]], dtype=object),\n",
       " array([[0, 0],\n",
       "        [1, 0],\n",
       "        [array([0.00013198]), array([0.01624612])],\n",
       "        [array([0.38194646]), array([-0.90799287])],\n",
       "        [array([0.99318522]), array([-0.11654662])]], dtype=object),\n",
       " array([[0, 0],\n",
       "        [1, 0],\n",
       "        [array([0.00013198]), array([0.01624612])],\n",
       "        [array([0.61137074]), array([0.80769237])],\n",
       "        [array([0.99318522]), array([-0.11654662])]], dtype=object),\n",
       " array([[0, 0],\n",
       "        [1, 0],\n",
       "        [array([0.00013198]), array([-0.01624612])],\n",
       "        [array([0.38194646]), array([0.90799287])],\n",
       "        [array([0.99318522]), array([0.11654662])]], dtype=object),\n",
       " array([[0, 0],\n",
       "        [1, 0],\n",
       "        [array([0.00013198]), array([-0.01624612])],\n",
       "        [array([0.61137074]), array([-0.80769237])],\n",
       "        [array([0.99318522]), array([0.11654662])]], dtype=object)]"
      ]
     },
     "execution_count": 58,
     "metadata": {},
     "output_type": "execute_result"
    }
   ],
   "source": [
    "r=moduli_space_sample(3,[1,1,1,1], (math.pi/5))\n",
    "len(r)\n",
    "r"
   ]
  },
  {
   "cell_type": "code",
   "execution_count": 40,
   "id": "d17c829e",
   "metadata": {},
   "outputs": [
    {
     "data": {
      "image/png": "[encoded data removed]",
      "text/plain": [
       "<Figure size 640x480 with 1 Axes>"
      ]
     },
     "metadata": {},
     "output_type": "display_data"
    }
   ],
   "source": [
    "data=r[9]\n",
    "#plt.rcParams[\"figure.figsize\"] = [4.0, 3.50]\n",
    "plt.scatter(data[:,0],data[:,1])\n",
    "plt.plot(data[:,0],data[:,1])\n",
    "plt.show()"
   ]
  },
  {
   "cell_type": "code",
   "execution_count": null,
   "id": "a2903d57",
   "metadata": {},
   "outputs": [],
   "source": []
  }
 ],
 "metadata": {
  "kernelspec": {
   "display_name": "Python 3 (ipykernel)",
   "language": "python",
   "name": "python3"
  },
  "language_info": {
   "codemirror_mode": {
    "name": "ipython",
    "version": 3
   },
   "file_extension": ".py",
   "mimetype": "text/x-python",
   "name": "python",
   "nbconvert_exporter": "python",
   "pygments_lexer": "ipython3",
   "version": "3.11.3"
  }
 },
 "nbformat": 4,
 "nbformat_minor": 5
}
