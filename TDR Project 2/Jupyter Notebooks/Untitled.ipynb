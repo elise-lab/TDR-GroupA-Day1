{
 "cells": [
  {
   "cell_type": "markdown",
   "id": "1797484a",
   "metadata": {},
   "source": [
    "In this file we will go through how to make a pentagon dataset as a numpy array, turn it into an excel file, and then turn it into a txt file."
   ]
  }
 ],
 "metadata": {
  "kernelspec": {
   "display_name": "Python 3 (ipykernel)",
   "language": "python",
   "name": "python3"
  },
  "language_info": {
   "codemirror_mode": {
    "name": "ipython",
    "version": 3
   },
   "file_extension": ".py",
   "mimetype": "text/x-python",
   "name": "python",
   "nbconvert_exporter": "python",
   "pygments_lexer": "ipython3",
   "version": "3.11.3"
  }
 },
 "nbformat": 4,
 "nbformat_minor": 5
}
