{
 "cells": [
  {
   "cell_type": "code",
   "execution_count": 7,
   "id": "d7c804de",
   "metadata": {},
   "outputs": [
    {
     "ename": "ValueError",
     "evalue": "math domain error",
     "output_type": "error",
     "traceback": [
      "\u001b[0;31m---------------------------------------------------------------------------\u001b[0m",
      "\u001b[0;31mValueError\u001b[0m                                Traceback (most recent call last)",
      "Cell \u001b[0;32mIn[7], line 3\u001b[0m\n\u001b[1;32m      1\u001b[0m \u001b[38;5;28;01mfrom\u001b[39;00m \u001b[38;5;21;01mdefinitions\u001b[39;00m \u001b[38;5;28;01mimport\u001b[39;00m \u001b[38;5;241m*\u001b[39m\n\u001b[1;32m      2\u001b[0m \u001b[38;5;28;01mimport\u001b[39;00m \u001b[38;5;21;01mxlwt\u001b[39;00m\n\u001b[0;32m----> 3\u001b[0m r\u001b[38;5;241m=\u001b[39m\u001b[43mmoduli_space_sample\u001b[49m\u001b[43m(\u001b[49m\u001b[38;5;241;43m14000\u001b[39;49m\u001b[43m,\u001b[49m\u001b[43m[\u001b[49m\u001b[38;5;241;43m0.4\u001b[39;49m\u001b[43m,\u001b[49m\u001b[38;5;241;43m0.4\u001b[39;49m\u001b[43m,\u001b[49m\u001b[38;5;241;43m0.4\u001b[39;49m\u001b[43m,\u001b[49m\u001b[38;5;241;43m0.4\u001b[39;49m\u001b[43m]\u001b[49m\u001b[43m,\u001b[49m\u001b[43m(\u001b[49m\u001b[43mmath\u001b[49m\u001b[38;5;241;43m.\u001b[39;49m\u001b[43mpi\u001b[49m\u001b[38;5;241;43m/\u001b[39;49m\u001b[38;5;241;43m3\u001b[39;49m\u001b[43m)\u001b[49m\u001b[43m,\u001b[49m\u001b[43msampling\u001b[49m\u001b[38;5;241;43m=\u001b[39;49m\u001b[38;5;124;43m'\u001b[39;49m\u001b[38;5;124;43meven\u001b[39;49m\u001b[38;5;124;43m'\u001b[39;49m\u001b[43m)\u001b[49m\n\u001b[1;32m      4\u001b[0m \u001b[38;5;28mlen\u001b[39m(r)\n",
      "File \u001b[0;32m~/Documents/TDR-MSRI-UP/TDR Project 2/Jupyter Notebooks/definitions.py:215\u001b[0m, in \u001b[0;36mmoduli_space_sample\u001b[0;34m(n, distances, start_ang, sampling)\u001b[0m\n\u001b[1;32m    211\u001b[0m             \u001b[38;5;28;01mexcept\u001b[39;00m InternalException \u001b[38;5;28;01mas\u001b[39;00m e:\n\u001b[1;32m    212\u001b[0m                 \u001b[38;5;66;03m#print(str(e))\u001b[39;00m\n\u001b[1;32m    213\u001b[0m                 \u001b[38;5;66;03m#print(\"firstloop\")\u001b[39;00m\n\u001b[1;32m    214\u001b[0m                 \u001b[38;5;28;01mcontinue\u001b[39;00m\n\u001b[0;32m--> 215\u001b[0m     \u001b[38;5;28;01mfor\u001b[39;00m i \u001b[38;5;129;01min\u001b[39;00m \u001b[43mdegenerate_penta\u001b[49m\u001b[43m(\u001b[49m\u001b[43mmath\u001b[49m\u001b[38;5;241;43m.\u001b[39;49m\u001b[43mceil\u001b[49m\u001b[43m(\u001b[49m\u001b[43mn\u001b[49m\u001b[38;5;241;43m*\u001b[39;49m\u001b[38;5;241;43m0.001\u001b[39;49m\u001b[43m)\u001b[49m\u001b[43m,\u001b[49m\u001b[43mdistances\u001b[49m\u001b[43m)\u001b[49m:\n\u001b[1;32m    216\u001b[0m         sample\u001b[38;5;241m.\u001b[39mappend(i)\n\u001b[1;32m    217\u001b[0m \u001b[38;5;28;01melif\u001b[39;00m sampling\u001b[38;5;241m==\u001b[39m\u001b[38;5;124m'\u001b[39m\u001b[38;5;124mrd\u001b[39m\u001b[38;5;124m'\u001b[39m:\n",
      "File \u001b[0;32m~/Documents/TDR-MSRI-UP/TDR Project 2/Jupyter Notebooks/definitions.py:151\u001b[0m, in \u001b[0;36mdegenerate_penta\u001b[0;34m(n, distances)\u001b[0m\n\u001b[1;32m    149\u001b[0m output\u001b[38;5;241m=\u001b[39m[]\n\u001b[1;32m    150\u001b[0m \u001b[38;5;66;03m#right oriented degenerate pentagons\u001b[39;00m\n\u001b[0;32m--> 151\u001b[0m max_angle\u001b[38;5;241m=\u001b[39m\u001b[43mangle_from_side\u001b[49m\u001b[43m(\u001b[49m\u001b[43mdistances\u001b[49m\u001b[43m[\u001b[49m\u001b[38;5;241;43m0\u001b[39;49m\u001b[43m]\u001b[49m\u001b[43m,\u001b[49m\u001b[43m \u001b[49m\u001b[43mdistances\u001b[49m\u001b[43m[\u001b[49m\u001b[38;5;241;43m2\u001b[39;49m\u001b[43m]\u001b[49m\u001b[38;5;241;43m+\u001b[39;49m\u001b[43m(\u001b[49m\u001b[38;5;241;43m1\u001b[39;49m\u001b[38;5;241;43m-\u001b[39;49m\u001b[43mdistances\u001b[49m\u001b[43m[\u001b[49m\u001b[38;5;241;43m3\u001b[39;49m\u001b[43m]\u001b[49m\u001b[43m)\u001b[49m\u001b[43m,\u001b[49m\u001b[43mdistances\u001b[49m\u001b[43m[\u001b[49m\u001b[38;5;241;43m1\u001b[39;49m\u001b[43m]\u001b[49m\u001b[43m)\u001b[49m\n\u001b[1;32m    152\u001b[0m theta2\u001b[38;5;241m=\u001b[39mnp\u001b[38;5;241m.\u001b[39mlinspace(\u001b[38;5;241m0\u001b[39m,max_angle,n)\n\u001b[1;32m    153\u001b[0m \u001b[38;5;28;01mfor\u001b[39;00m i \u001b[38;5;129;01min\u001b[39;00m theta2:\n",
      "File \u001b[0;32m~/Documents/TDR-MSRI-UP/TDR Project 2/Jupyter Notebooks/definitions.py:17\u001b[0m, in \u001b[0;36mangle_from_side\u001b[0;34m(a, b, c)\u001b[0m\n\u001b[1;32m     14\u001b[0m \u001b[38;5;28;01mdef\u001b[39;00m \u001b[38;5;21mangle_from_side\u001b[39m(a, b, c):\u001b[38;5;66;03m#law of cosines for sides a,b,c returning angle C\u001b[39;00m\n\u001b[1;32m     16\u001b[0m     cos_c \u001b[38;5;241m=\u001b[39m (a \u001b[38;5;241m*\u001b[39m\u001b[38;5;241m*\u001b[39m\u001b[38;5;241m2\u001b[39m \u001b[38;5;241m+\u001b[39m b \u001b[38;5;241m*\u001b[39m\u001b[38;5;241m*\u001b[39m \u001b[38;5;241m2\u001b[39m \u001b[38;5;241m-\u001b[39m c \u001b[38;5;241m*\u001b[39m\u001b[38;5;241m*\u001b[39m \u001b[38;5;241m2\u001b[39m)\u001b[38;5;241m/\u001b[39m(\u001b[38;5;241m2\u001b[39m\u001b[38;5;241m*\u001b[39ma\u001b[38;5;241m*\u001b[39mb)\n\u001b[0;32m---> 17\u001b[0m     C \u001b[38;5;241m=\u001b[39m math\u001b[38;5;241m.\u001b[39macos(cos_c)\n\u001b[1;32m     18\u001b[0m     \u001b[38;5;28;01mreturn\u001b[39;00m C\n",
      "\u001b[0;31mValueError\u001b[0m: math domain error"
     ]
    }
   ],
   "source": [
    "from definitions import *\n",
    "import xlwt\n",
    "r=moduli_space_sample(14000,[0.4,0.4,0.4,0.4],(math.pi/3),sampling='even')\n",
    "len(r)"
   ]
  },
  {
   "cell_type": "code",
   "execution_count": 9,
   "id": "1ce1cd07",
   "metadata": {},
   "outputs": [],
   "source": [
    "from xlwt import Workbook\n",
    "wb = Workbook()\n",
    "sheet1 = wb.add_sheet('Sheet 1')\n",
    "\n",
    "def clean(i):\n",
    "    return (str(np.array(i[0]).tolist())+', '+str(np.array(i[1]).tolist())).replace('[','').replace(']','')\n",
    "\n",
    "for count1, pent in enumerate(r):\n",
    "    for count2, i in enumerate(pent):\n",
    "        sheet1.write(count1, count2, clean(i))\n",
    "\n",
    "wb.save('sphere.xls')"
   ]
  }
 ],
 "metadata": {
  "kernelspec": {
   "display_name": "Python 3 (ipykernel)",
   "language": "python",
   "name": "python3"
  },
  "language_info": {
   "codemirror_mode": {
    "name": "ipython",
    "version": 3
   },
   "file_extension": ".py",
   "mimetype": "text/x-python",
   "name": "python",
   "nbconvert_exporter": "python",
   "pygments_lexer": "ipython3",
   "version": "3.11.3"
  }
 },
 "nbformat": 4,
 "nbformat_minor": 5
}
