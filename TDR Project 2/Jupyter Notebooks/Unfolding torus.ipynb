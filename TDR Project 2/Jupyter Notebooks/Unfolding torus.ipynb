{
 "cells": [
  {
   "cell_type": "code",
   "execution_count": 1,
   "id": "e9161d2b",
   "metadata": {},
   "outputs": [],
   "source": [
    "import numpy as np\n",
    "from sklearn import manifold\n",
    "from dreimac import GeometryUtils, CircleMapUtils, CircularCoords\n",
    "from ripser import ripser\n",
    "from persim import plot_diagrams\n",
    "import plotly.graph_objects as go\n",
    "import matplotlib.pyplot as plt\n",
    "%matplotlib inline\n",
    "from sklearn.neighbors import NearestNeighbors\n",
    "from scipy.sparse import csr_matrix, dok_array\n",
    "from plotly.subplots import make_subplots\n",
    "from scipy.sparse.csgraph import shortest_path\n"
   ]
  },
  {
   "cell_type": "code",
   "execution_count": 3,
   "id": "e2259397",
   "metadata": {},
   "outputs": [
    {
     "data": {
      "text/html": [
       "<iframe\n",
       "    scrolling=\"no\"\n",
       "    width=\"100%\"\n",
       "    height=\"545px\"\n",
       "    src=\"iframe_figures/figure_3.html\"\n",
       "    frameborder=\"0\"\n",
       "    allowfullscreen\n",
       "></iframe>\n"
      ]
     },
     "metadata": {},
     "output_type": "display_data"
    }
   ],
   "source": [
    "np.random.seed(2)\n",
    "n_data = 2500\n",
    "R = 5\n",
    "r = 2\n",
    "data = np.zeros((n_data, 3))\n",
    "s = np.random.rand(n_data)*2*np.pi\n",
    "t = np.random.rand(n_data)*2*np.pi\n",
    "\n",
    "data[:, 0] = (R + r*np.cos(s))*np.cos(t)\n",
    "data[:, 1] = (R + r*np.cos(s))*np.sin(t)\n",
    "data[:, 2] = r*np.sin(s)\n",
    "data += 0.1*np.random.randn(*data.shape)\n",
    "\n",
    "# Plot the data \n",
    "fig = go.Figure(data=[go.Scatter3d(\n",
    "    x=data[:,0], y=data[:,1], z=data[:,2], \n",
    "    mode ='markers', \n",
    "    marker=dict(size = 1.5 , color = 'grey'))])\n",
    "\n",
    "fig.update_layout( showlegend=False )\n",
    "fig.show(renderer='iframe')"
   ]
  },
  {
   "cell_type": "code",
   "execution_count": 4,
   "id": "919c9b78",
   "metadata": {},
   "outputs": [
    {
     "name": "stdout",
     "output_type": "stream",
     "text": [
      "(2500, 3)\n"
     ]
    }
   ],
   "source": [
    "#penta2 = np.loadtxt('data/genus_3_clean.txt', delimiter=',')\n",
    "print(data.shape)"
   ]
  },
  {
   "cell_type": "code",
   "execution_count": null,
   "id": "63d48f84",
   "metadata": {},
   "outputs": [],
   "source": []
  },
  {
   "cell_type": "code",
   "execution_count": null,
   "id": "9c468db9",
   "metadata": {},
   "outputs": [],
   "source": [
    "#energy computation\n",
    "\n",
    "# angle_data = np.zeros((penta2.shape[0],5)) # internal angles\n",
    "\n",
    "# for i in range(5):\n",
    "#     ii = (2*i -2)%10\n",
    "#     jj = (2*i - 1)%10\n",
    "#     u = penta2[:, [ii, jj]]\n",
    "    \n",
    "#     ii = (2*i)%10\n",
    "#     jj = (2*i + 1)%10\n",
    "#     v = penta2[:, [ii , jj]]\n",
    "    \n",
    "#     ii = (2*i + 2)%10\n",
    "#     jj = (2*i + 3)%10\n",
    "#     w = penta2[:, [ii, jj]]\n",
    "    \n",
    "#     z = np.sum((u - v)*(w-v), axis = 1)\n",
    "    \n",
    "#     angle_data[:,i]  = np.arccos( np.minimum(z,1) )\n",
    "    \n",
    "# energy = np.sum((angle_data - (3/5)*np.pi)**2 , axis = 1)"
   ]
  },
  {
   "cell_type": "code",
   "execution_count": 5,
   "id": "8f3be2e9",
   "metadata": {},
   "outputs": [
    {
     "data": {
      "image/png": "[encoded data removed]",
      "text/plain": [
       "<Figure size 640x480 with 1 Axes>"
      ]
     },
     "metadata": {},
     "output_type": "display_data"
    }
   ],
   "source": [
    "n_lands = 200\n",
    "\n",
    "cc = CircularCoords(data, n_landmarks=n_lands)\n",
    "\n",
    "plot_diagrams(cc.dgms_)"
   ]
  },
  {
   "cell_type": "code",
   "execution_count": 9,
   "id": "fe7c22f5",
   "metadata": {},
   "outputs": [],
   "source": [
    "coho_classes = [0, 1]\n",
    "\n",
    "circular_coords = []\n",
    "\n",
    "for i in coho_classes:\n",
    "    theta = cc.get_coordinates(perc= 0, cocycle_idx=i)\n",
    "    theta = CircleMapUtils.center(theta)\n",
    "    #theta = CircleMapUtils.to_sinebow(np.pi + CircleMapUtils.center(theta))\n",
    "    circular_coords.append(theta)"
   ]
  },
  {
   "cell_type": "code",
   "execution_count": 10,
   "id": "f9c31c5b",
   "metadata": {},
   "outputs": [
    {
     "data": {
      "text/html": [
       "<iframe\n",
       "    scrolling=\"no\"\n",
       "    width=\"100%\"\n",
       "    height=\"545px\"\n",
       "    src=\"iframe_figures/figure_10.html\"\n",
       "    frameborder=\"0\"\n",
       "    allowfullscreen\n",
       "></iframe>\n"
      ]
     },
     "metadata": {},
     "output_type": "display_data"
    }
   ],
   "source": [
    "fig = make_subplots(rows=1, cols=len(coho_classes), \n",
    "                    subplot_titles = tuple('Circ Coord '+str(i+1) for i in coho_classes),\n",
    "                    specs = [[{'type': 'scatter3d'} for i in coho_classes]])\n",
    "\n",
    "for i, coord in enumerate(circular_coords):\n",
    "    fig.add_trace(\n",
    "        go.Scatter3d(x=data.T[0], y=data.T[1], z=data.T[2],   mode ='markers', \n",
    "        marker=dict(size = 2 , color =  circular_coords[i])),  \n",
    "        row=1, col=i+1)\n",
    "    fig.update_scenes(xaxis=dict( ticks='', showticklabels=False), \n",
    "                      yaxis=dict( ticks='', showticklabels=False), \n",
    "                      zaxis=dict( ticks='', showticklabels=False), \n",
    "                      aspectmode='data', row=1, col=i+1)\n",
    "\n",
    "fig.update_layout( showlegend=False )\n",
    "fig.show(renderer='iframe')"
   ]
  },
  {
   "cell_type": "code",
   "execution_count": 11,
   "id": "56fc5619",
   "metadata": {},
   "outputs": [
    {
     "data": {
      "text/plain": [
       "array([5.08336746, 0.17572023, 3.64145574, ..., 1.49670142, 4.61160472,\n",
       "       3.16629464])"
      ]
     },
     "execution_count": 11,
     "metadata": {},
     "output_type": "execute_result"
    }
   ],
   "source": [
    "circular_coords[0]"
   ]
  },
  {
   "cell_type": "code",
   "execution_count": null,
   "id": "7ada3d10",
   "metadata": {},
   "outputs": [],
   "source": [
    "#implementing circular coords to find cuts found via persistent cohomology genus 3 jupyter notebook\n",
    "\n",
    "# n_lands = 900\n",
    "\n",
    "# cc = CircularCoords(dist_mat, n_landmarks= n_lands, distance_matrix = True)\n",
    "\n",
    "# coho_classes = [0, 1, 2, 3, 4, 5]\n",
    "\n",
    "# circular_coords = []\n",
    "\n",
    "# for i in coho_classes:\n",
    "#     circular_coords.append(cc.get_coordinates(perc = 0.6, cocycle_idx=i, standard_range= False))\n",
    "\n",
    "# #Applying Circular coords and doing TDR\n",
    "\n",
    "# thetas= CircleMapUtils.linear_combination(np.array(circular_coords), [[1,0,0,0,0,0], [0,1,0,0,0,0],[0,0,1,0,0,0], [0,0,0,1,0,0], [0,0,0,0,1,0],[0,0,0,0,0,1]])\n",
    "# #Standard Basis, 1,2,6 little fold for genus 3\n",
    "\n",
    "# theta1 = CircleMapUtils.center(thetas[0])\n",
    "# theta2 = CircleMapUtils.center(thetas[1])\n",
    "# theta3 = CircleMapUtils.center(thetas[2])\n",
    "# theta4 = CircleMapUtils.center(thetas[3])\n",
    "# theta5 = CircleMapUtils.center(thetas[4])\n",
    "# theta6 = CircleMapUtils.center(thetas[5])\n",
    "\n",
    "# fig = go.Figure(data=[go.Scatter3d(\n",
    "#     x=theta1, y=theta2, z=theta3, \n",
    "#     mode ='markers', \n",
    "#     marker=dict(size = 3, color =energy[pointcloud_permutation], colorscale='plasma')\n",
    "# )])\n",
    "\n",
    "# fig.update_layout(autosize=False, width=700, height=700)\n",
    "\n",
    "# fig.show()\n",
    "\n",
    "\n"
   ]
  },
  {
   "cell_type": "code",
   "execution_count": null,
   "id": "8f8a4d7e",
   "metadata": {},
   "outputs": [],
   "source": [
    "theta1"
   ]
  },
  {
   "cell_type": "code",
   "execution_count": null,
   "id": "68575a5f",
   "metadata": {},
   "outputs": [],
   "source": [
    "# n_lands=1000\n",
    "\n",
    "# coho_data = np.array([theta1, theta2, theta6])\n",
    "\n",
    "# coho = CircularCoords(coho_data.T , n_landmarks= n_lands)\n",
    "\n",
    "# coho_classes = [0, 1, 2, 3, 4, 5]\n",
    "\n",
    "# circular_coords_coho = []\n",
    "\n",
    "# for i in coho_classes:\n",
    "#     circular_coords_coho.append(coho.get_coordinates(perc = 0.6, cocycle_idx=i, standard_range= False))\n",
    "    \n",
    "# thetas_prime = CircleMapUtils.linear_combination(circular_coords_coho,[[1,0,0,0,0,0], [0,1,0,0,0,3],[1,0,1,0,0,0],[1,0,0,1,0,0],[0,0,0,0,2,1],[0,0,0,0,0,1]])\n",
    "\n",
    "# fig = make_subplots(rows=1, cols=len(coho_classes), \n",
    "#                     subplot_titles = tuple('Circ Coord '+str(i) for i in coho_classes),\n",
    "#                     specs = [[{'type': 'scatter3d'} for i in coho_classes]])\n",
    "\n",
    "# for i, coord in enumerate(circular_coords_coho):\n",
    "#     fig.add_trace(\n",
    "#         go.Scatter3d(x=theta1, y=theta2, z=theta6,   mode ='markers', \n",
    "#         marker=dict(size = 2 , color = (thetas_prime[i]))),  \n",
    "#         row=1, col=i+1)\n",
    "#     fig.update_scenes(xaxis=dict( ticks='', showticklabels=False), \n",
    "#                       yaxis=dict( ticks='', showticklabels=False), \n",
    "#                       zaxis=dict( ticks='', showticklabels=False), \n",
    "#                       aspectmode='data', row=1, col=i+1)\n",
    "\n",
    "# fig.update_layout( showlegend=False )\n",
    "# fig.show()"
   ]
  },
  {
   "cell_type": "code",
   "execution_count": 16,
   "id": "7ed15bc7",
   "metadata": {},
   "outputs": [
    {
     "name": "stdout",
     "output_type": "stream",
     "text": [
      "6.2806252369563484\n"
     ]
    },
    {
     "data": {
      "text/plain": [
       "(array([43., 36., 23., 24., 35., 38., 40., 40., 31., 24., 29., 28., 20.,\n",
       "        34., 41., 36., 35., 31., 43., 45., 30., 30., 39., 43., 39., 26.,\n",
       "        23., 35., 23., 42., 24., 27., 33., 21., 27., 32., 31., 19., 20.,\n",
       "        40., 58., 38., 30., 19., 22., 40., 26., 45., 53., 32., 37., 44.,\n",
       "        27., 43., 49., 29., 24., 18., 28., 22., 18., 47., 37., 31., 26.,\n",
       "        20., 26., 24., 15., 28., 19., 34., 26., 35., 33., 22., 31., 21.,\n",
       "        27., 16.]),\n",
       " array([1.09273646e-03, 7.95868927e-02, 1.58081049e-01, 2.36575205e-01,\n",
       "        3.15069361e-01, 3.93563518e-01, 4.72057674e-01, 5.50551830e-01,\n",
       "        6.29045987e-01, 7.07540143e-01, 7.86034299e-01, 8.64528455e-01,\n",
       "        9.43022612e-01, 1.02151677e+00, 1.10001092e+00, 1.17850508e+00,\n",
       "        1.25699924e+00, 1.33549339e+00, 1.41398755e+00, 1.49248171e+00,\n",
       "        1.57097586e+00, 1.64947002e+00, 1.72796417e+00, 1.80645833e+00,\n",
       "        1.88495249e+00, 1.96344664e+00, 2.04194080e+00, 2.12043496e+00,\n",
       "        2.19892911e+00, 2.27742327e+00, 2.35591742e+00, 2.43441158e+00,\n",
       "        2.51290574e+00, 2.59139989e+00, 2.66989405e+00, 2.74838821e+00,\n",
       "        2.82688236e+00, 2.90537652e+00, 2.98387067e+00, 3.06236483e+00,\n",
       "        3.14085899e+00, 3.21935314e+00, 3.29784730e+00, 3.37634146e+00,\n",
       "        3.45483561e+00, 3.53332977e+00, 3.61182392e+00, 3.69031808e+00,\n",
       "        3.76881224e+00, 3.84730639e+00, 3.92580055e+00, 4.00429471e+00,\n",
       "        4.08278886e+00, 4.16128302e+00, 4.23977717e+00, 4.31827133e+00,\n",
       "        4.39676549e+00, 4.47525964e+00, 4.55375380e+00, 4.63224796e+00,\n",
       "        4.71074211e+00, 4.78923627e+00, 4.86773042e+00, 4.94622458e+00,\n",
       "        5.02471874e+00, 5.10321289e+00, 5.18170705e+00, 5.26020121e+00,\n",
       "        5.33869536e+00, 5.41718952e+00, 5.49568367e+00, 5.57417783e+00,\n",
       "        5.65267199e+00, 5.73116614e+00, 5.80966030e+00, 5.88815446e+00,\n",
       "        5.96664861e+00, 6.04514277e+00, 6.12363692e+00, 6.20213108e+00,\n",
       "        6.28062524e+00]),\n",
       " <BarContainer object of 80 artists>)"
      ]
     },
     "execution_count": 16,
     "metadata": {},
     "output_type": "execute_result"
    },
    {
     "data": {
      "image/png": "[encoded data removed]",
      "text/plain": [
       "<Figure size 640x480 with 1 Axes>"
      ]
     },
     "metadata": {},
     "output_type": "display_data"
    }
   ],
   "source": [
    "print(max(circular_coords[0]))\n",
    "plt.hist(circular_coords[0],bins=80)"
   ]
  },
  {
   "cell_type": "code",
   "execution_count": 23,
   "id": "24e1e6ed",
   "metadata": {},
   "outputs": [],
   "source": [
    "#take in cuts as a circular coordinate array called cut1,...\n",
    "cut1=circular_coords[0]\n",
    "cut2=circular_coords[1]\n",
    "epsilon=0.4\n",
    "removed_points=[num for num, x in enumerate(cut1) if x<epsilon or x > (2*np.pi-epsilon)]\n",
    "rempoin=[num for num, x in enumerate(cut2) if x<epsilon or x > (2*np.pi-epsilon)]\n",
    "\n",
    "n_land = 900\n",
    "k_neigh = 20\n",
    "nbrs = NearestNeighbors(n_neighbors=k_neigh, algorithm='ball_tree').fit(data)\n",
    "distances, indices = nbrs.kneighbors(data)\n",
    "# spatial_tree = KDTree(data)\n",
    "# distances_nn, indices_nn = spatial_tree.query(data, k=k_neigh)\n",
    "# n_queries = data.shape[0]\n",
    "# n_nonzero = n_queries * k_neigh\n",
    "# indptr = np.arange(0, n_nonzero + 1, k_neigh)\n",
    "# kneighbors_graph = csr_matrix(\n",
    "#             (distances_nn.ravel(), indices_nn.ravel(), indptr),\n",
    "#             shape=(n_queries, n_queries),\n",
    "# ).tolil()\n",
    "\n",
    "\n",
    "combined_graph=[[indices[i],distances[i]] for i in range(len(indices))]\n"
   ]
  },
  {
   "cell_type": "code",
   "execution_count": 24,
   "id": "1526e931",
   "metadata": {},
   "outputs": [
    {
     "name": "stdout",
     "output_type": "stream",
     "text": [
      "278\n"
     ]
    }
   ],
   "source": [
    "print(len(removed_points))"
   ]
  },
  {
   "cell_type": "code",
   "execution_count": 25,
   "id": "0dc039bd",
   "metadata": {},
   "outputs": [
    {
     "name": "stdout",
     "output_type": "stream",
     "text": [
      "2500\n"
     ]
    }
   ],
   "source": [
    "#takes points to remove and sets them to zero and then removes all zeros\n",
    "\n",
    "for i in removed_points:\n",
    "    for j in combined_graph[i][0]:\n",
    "        if j in removed_points:\n",
    "            index=np.where(combined_graph[i][0]==j)[0][0]\n",
    "            combined_graph[i][0]=np.delete(combined_graph[i][0],index)\n",
    "            combined_graph[i][1]=np.delete(combined_graph[i][1],index)\n",
    "            \n",
    "print(len(combined_graph))"
   ]
  },
  {
   "cell_type": "code",
   "execution_count": 26,
   "id": "b2a14085",
   "metadata": {},
   "outputs": [
    {
     "name": "stdout",
     "output_type": "stream",
     "text": [
      "[array([   0,  457, 2277, 1736,  629, 1499, 1421, 2421,  702, 1539,  252,\n",
      "       1598,  597,  858,  652, 1626, 2440, 2466, 1399, 2169]), array([0.        , 0.21091664, 0.26658136, 0.36048538, 0.38828411,\n",
      "       0.42579166, 0.42950006, 0.52588407, 0.56783242, 0.57416196,\n",
      "       0.63535714, 0.69946477, 0.71330192, 0.71620839, 0.77356021,\n",
      "       0.78934159, 0.82924374, 0.83870152, 0.86235832, 0.86242624])]\n"
     ]
    }
   ],
   "source": [
    "print(combined_graph[0])"
   ]
  },
  {
   "cell_type": "code",
   "execution_count": 35,
   "id": "ee1f13c4",
   "metadata": {},
   "outputs": [],
   "source": [
    "kneighbors_graph=np.zeros((n_data,n_data))\n",
    "for count, info in enumerate(combined_graph):\n",
    "    for place, ind in enumerate(info[0]):\n",
    "        kneighbors_graph[count,ind]=info[1][place]\n"
   ]
  },
  {
   "cell_type": "code",
   "execution_count": 36,
   "id": "97441bfc",
   "metadata": {},
   "outputs": [
    {
     "ename": "KeyboardInterrupt",
     "evalue": "",
     "output_type": "error",
     "traceback": [
      "\u001b[0;31m---------------------------------------------------------------------------\u001b[0m",
      "\u001b[0;31mKeyboardInterrupt\u001b[0m                         Traceback (most recent call last)",
      "Cell \u001b[0;32mIn[36], line 14\u001b[0m\n\u001b[1;32m     12\u001b[0m perm[i] \u001b[38;5;241m=\u001b[39m idx\n\u001b[1;32m     13\u001b[0m lambdas[i] \u001b[38;5;241m=\u001b[39m ds[idx]\n\u001b[0;32m---> 14\u001b[0m thisds \u001b[38;5;241m=\u001b[39m \u001b[43mshortest_path\u001b[49m\u001b[43m(\u001b[49m\u001b[43mkneighbors_graph\u001b[49m\u001b[43m,\u001b[49m\u001b[43m \u001b[49m\u001b[43mindices\u001b[49m\u001b[38;5;241;43m=\u001b[39;49m\u001b[43midx\u001b[49m\u001b[43m,\u001b[49m\u001b[43m \u001b[49m\u001b[43mdirected\u001b[49m\u001b[38;5;241;43m=\u001b[39;49m\u001b[38;5;28;43;01mFalse\u001b[39;49;00m\u001b[43m)\u001b[49m\n\u001b[1;32m     15\u001b[0m D[i, :] \u001b[38;5;241m=\u001b[39m thisds\n\u001b[1;32m     16\u001b[0m ds \u001b[38;5;241m=\u001b[39m np\u001b[38;5;241m.\u001b[39mminimum(ds, thisds)\n",
      "File \u001b[0;32m_shortest_path.pyx:198\u001b[0m, in \u001b[0;36mscipy.sparse.csgraph._shortest_path.shortest_path\u001b[0;34m()\u001b[0m\n",
      "File \u001b[0;32m_shortest_path.pyx:517\u001b[0m, in \u001b[0;36mscipy.sparse.csgraph._shortest_path.dijkstra\u001b[0;34m()\u001b[0m\n",
      "File \u001b[0;32m/usr/local/lib/python3.11/site-packages/scipy/sparse/csgraph/_validation.py:46\u001b[0m, in \u001b[0;36mvalidate_graph\u001b[0;34m(csgraph, directed, dtype, csr_output, dense_output, copy_if_dense, copy_if_sparse, null_value_in, null_value_out, infinity_null, nan_null)\u001b[0m\n\u001b[1;32m     44\u001b[0m         csgraph[mask] \u001b[38;5;241m=\u001b[39m null_value_out\n\u001b[1;32m     45\u001b[0m     \u001b[38;5;28;01melse\u001b[39;00m:\n\u001b[0;32m---> 46\u001b[0m         csgraph \u001b[38;5;241m=\u001b[39m \u001b[43mcsgraph_from_dense\u001b[49m\u001b[43m(\u001b[49m\u001b[43mcsgraph\u001b[49m\u001b[43m,\u001b[49m\u001b[43m \u001b[49m\u001b[43mnull_value\u001b[49m\u001b[38;5;241;43m=\u001b[39;49m\u001b[43mnull_value_in\u001b[49m\u001b[43m,\u001b[49m\n\u001b[1;32m     47\u001b[0m \u001b[43m                                     \u001b[49m\u001b[43minfinity_null\u001b[49m\u001b[38;5;241;43m=\u001b[39;49m\u001b[43minfinity_null\u001b[49m\u001b[43m,\u001b[49m\n\u001b[1;32m     48\u001b[0m \u001b[43m                                     \u001b[49m\u001b[43mnan_null\u001b[49m\u001b[38;5;241;43m=\u001b[39;49m\u001b[43mnan_null\u001b[49m\u001b[43m)\u001b[49m\n\u001b[1;32m     50\u001b[0m \u001b[38;5;28;01mif\u001b[39;00m csgraph\u001b[38;5;241m.\u001b[39mndim \u001b[38;5;241m!=\u001b[39m \u001b[38;5;241m2\u001b[39m:\n\u001b[1;32m     51\u001b[0m     \u001b[38;5;28;01mraise\u001b[39;00m \u001b[38;5;167;01mValueError\u001b[39;00m(\u001b[38;5;124m\"\u001b[39m\u001b[38;5;124mcompressed-sparse graph must be 2-D\u001b[39m\u001b[38;5;124m\"\u001b[39m)\n",
      "File \u001b[0;32m_tools.pyx:216\u001b[0m, in \u001b[0;36mscipy.sparse.csgraph._tools.csgraph_from_dense\u001b[0;34m()\u001b[0m\n",
      "File \u001b[0;32m_tools.pyx:167\u001b[0m, in \u001b[0;36mscipy.sparse.csgraph._tools.csgraph_masked_from_dense\u001b[0;34m()\u001b[0m\n",
      "File \u001b[0;32m/usr/local/lib/python3.11/site-packages/numpy/ma/core.py:3516\u001b[0m, in \u001b[0;36mMaskedArray.mask\u001b[0;34m(self, value)\u001b[0m\n\u001b[1;32m   3514\u001b[0m \u001b[38;5;129m@mask\u001b[39m\u001b[38;5;241m.\u001b[39msetter\n\u001b[1;32m   3515\u001b[0m \u001b[38;5;28;01mdef\u001b[39;00m \u001b[38;5;21mmask\u001b[39m(\u001b[38;5;28mself\u001b[39m, value):\n\u001b[0;32m-> 3516\u001b[0m     \u001b[38;5;28;43mself\u001b[39;49m\u001b[38;5;241;43m.\u001b[39;49m\u001b[43m__setmask__\u001b[49m\u001b[43m(\u001b[49m\u001b[43mvalue\u001b[49m\u001b[43m)\u001b[49m\n",
      "File \u001b[0;32m/usr/local/lib/python3.11/site-packages/numpy/ma/core.py:3499\u001b[0m, in \u001b[0;36mMaskedArray.__setmask__\u001b[0;34m(self, mask, copy)\u001b[0m\n\u001b[1;32m   3497\u001b[0m \u001b[38;5;66;03m# Reshape if needed\u001b[39;00m\n\u001b[1;32m   3498\u001b[0m \u001b[38;5;28;01mif\u001b[39;00m current_mask\u001b[38;5;241m.\u001b[39mshape:\n\u001b[0;32m-> 3499\u001b[0m     current_mask\u001b[38;5;241m.\u001b[39mshape \u001b[38;5;241m=\u001b[39m \u001b[38;5;28;43mself\u001b[39;49m\u001b[38;5;241;43m.\u001b[39;49m\u001b[43mshape\u001b[49m\n\u001b[1;32m   3500\u001b[0m \u001b[38;5;28;01mreturn\u001b[39;00m\n",
      "File \u001b[0;32m/usr/local/lib/python3.11/site-packages/numpy/ma/core.py:3421\u001b[0m, in \u001b[0;36mMaskedArray.shape\u001b[0;34m(self)\u001b[0m\n\u001b[1;32m   3418\u001b[0m         \u001b[38;5;28;01mexcept\u001b[39;00m (\u001b[38;5;167;01mAttributeError\u001b[39;00m, \u001b[38;5;167;01mTypeError\u001b[39;00m):\n\u001b[1;32m   3419\u001b[0m             \u001b[38;5;28;01mpass\u001b[39;00m\n\u001b[0;32m-> 3421\u001b[0m \u001b[38;5;129m@property\u001b[39m\n\u001b[1;32m   3422\u001b[0m \u001b[38;5;28;01mdef\u001b[39;00m \u001b[38;5;21mshape\u001b[39m(\u001b[38;5;28mself\u001b[39m):\n\u001b[1;32m   3423\u001b[0m     \u001b[38;5;28;01mreturn\u001b[39;00m \u001b[38;5;28msuper\u001b[39m()\u001b[38;5;241m.\u001b[39mshape\n\u001b[1;32m   3425\u001b[0m \u001b[38;5;129m@shape\u001b[39m\u001b[38;5;241m.\u001b[39msetter\n\u001b[1;32m   3426\u001b[0m \u001b[38;5;28;01mdef\u001b[39;00m \u001b[38;5;21mshape\u001b[39m(\u001b[38;5;28mself\u001b[39m, shape):\n",
      "\u001b[0;31mKeyboardInterrupt\u001b[0m: "
     ]
    }
   ],
   "source": [
    "#calculating geodesic distance matrix\n",
    "n_landmarks=800\n",
    "\n",
    "n_points = data.shape[0]\n",
    "perm = np.zeros(n_landmarks, dtype=np.int64)\n",
    "lambdas = np.zeros(n_landmarks)\n",
    "ds = shortest_path(kneighbors_graph, indices=0, directed=False)\n",
    "D = np.zeros((n_landmarks, n_points))\n",
    "D[0, :] = ds\n",
    "for i in range(1, n_landmarks):\n",
    "    idx = np.argmax(ds)\n",
    "    perm[i] = idx\n",
    "    lambdas[i] = ds[idx]\n",
    "    thisds = shortest_path(kneighbors_graph, indices=idx, directed=False)\n",
    "    D[i, :] = thisds\n",
    "    ds = np.minimum(ds, thisds)\n",
    "\n",
    "perm_rest_points = np.setdiff1d(\n",
    "np.arange(0, n_points, dtype=int), perm, assume_unique=True\n",
    ")\n",
    "perm_all_points = np.concatenate((perm, perm_rest_points))\n",
    "\n",
    "dist_landmarks_points = D[:, perm_all_points]"
   ]
  },
  {
   "cell_type": "code",
   "execution_count": null,
   "id": "8fc1e116",
   "metadata": {},
   "outputs": [],
   "source": [
    "print(dist_landmarks_points)"
   ]
  },
  {
   "cell_type": "code",
   "execution_count": null,
   "id": "3198db63",
   "metadata": {},
   "outputs": [],
   "source": [
    "mds= manifold.MDS(\n",
    "    n_components=2,\n",
    "    metric=True,\n",
    "    dissimilarity=\"precomputed\",\n",
    ")\n",
    "unfolding = mds.fit(dist_landmarks_points)"
   ]
  },
  {
   "cell_type": "code",
   "execution_count": null,
   "id": "aa3dacac",
   "metadata": {},
   "outputs": [],
   "source": [
    "plt.scatter(unfolding[:,0], unfolding[:,1])"
   ]
  }
 ],
 "metadata": {
  "kernelspec": {
   "display_name": "Python 3 (ipykernel)",
   "language": "python",
   "name": "python3"
  },
  "language_info": {
   "codemirror_mode": {
    "name": "ipython",
    "version": 3
   },
   "file_extension": ".py",
   "mimetype": "text/x-python",
   "name": "python",
   "nbconvert_exporter": "python",
   "pygments_lexer": "ipython3",
   "version": "3.11.3"
  }
 },
 "nbformat": 4,
 "nbformat_minor": 5
}
